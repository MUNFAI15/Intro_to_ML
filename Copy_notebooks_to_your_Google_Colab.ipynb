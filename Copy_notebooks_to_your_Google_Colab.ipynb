{
  "nbformat": 4,
  "nbformat_minor": 0,
  "metadata": {
    "colab": {
      "name": "Copy notebooks to your Google Colab.ipynb",
      "version": "0.3.2",
      "provenance": [],
      "collapsed_sections": [],
      "include_colab_link": true
    },
    "kernelspec": {
      "name": "python3",
      "display_name": "Python 3"
    }
  },
  "cells": [
    {
      "cell_type": "markdown",
      "metadata": {
        "id": "view-in-github",
        "colab_type": "text"
      },
      "source": [
        "<a href=\"https://colab.research.google.com/github/Giffy/fast.ai/blob/master/Copy_notebooks_to_your_Google_Colab.ipynb\" target=\"_parent\"><img src=\"https://colab.research.google.com/assets/colab-badge.svg\" alt=\"Open In Colab\"/></a>"
      ]
    },
    {
      "metadata": {
        "id": "xfRHM3sruGKP",
        "colab_type": "code",
        "outputId": "4e9ba31d-658a-439a-c5c3-5898faa80098",
        "colab": {
          "base_uri": "https://localhost:8080/",
          "height": 129
        }
      },
      "cell_type": "code",
      "source": [
        "from google.colab import drive\n",
        "drive.mount('/gdrive')"
      ],
      "execution_count": 0,
      "outputs": [
        {
          "output_type": "stream",
          "text": [
            "Go to this URL in a browser: https://accounts.google.com/o/oauth2/auth?client_id=947318989803-6bn6qk8qdgf4n4g3pfee6491hc0brc4i.apps.googleusercontent.com&redirect_uri=urn%3Aietf%3Awg%3Aoauth%3A2.0%3Aoob&scope=email%20https%3A%2F%2Fwww.googleapis.com%2Fauth%2Fdocs.test%20https%3A%2F%2Fwww.googleapis.com%2Fauth%2Fdrive%20https%3A%2F%2Fwww.googleapis.com%2Fauth%2Fdrive.photos.readonly%20https%3A%2F%2Fwww.googleapis.com%2Fauth%2Fpeopleapi.readonly&response_type=code\n",
            "\n",
            "Enter your authorization code:\n",
            "··········\n",
            "Mounted at /gdrive\n"
          ],
          "name": "stdout"
        }
      ]
    },
    {
      "metadata": {
        "id": "iCqhTDgtuHIK",
        "colab_type": "code",
        "outputId": "5825ddd9-1186-45f0-8b8c-1f65e024a8d4",
        "colab": {
          "base_uri": "https://localhost:8080/",
          "height": 127
        }
      },
      "cell_type": "code",
      "source": [
        "# Copy FastAI course to Google Drive\n",
        "!mkdir /gdrive/My\\ Drive/FastAI_ml_Colab\n",
        "!git clone https://github.com/Giffy/fast.ai.git /gdrive/My\\ Drive/FastAI_ml_Colab"
      ],
      "execution_count": 0,
      "outputs": [
        {
          "output_type": "stream",
          "text": [
            "Cloning into '/gdrive/My Drive/FastAI_ml2'...\n",
            "remote: Enumerating objects: 75, done.\u001b[K\n",
            "remote: Counting objects:   1% (1/75)   \u001b[K\rremote: Counting objects:   2% (2/75)   \u001b[K\rremote: Counting objects:   4% (3/75)   \u001b[K\rremote: Counting objects:   5% (4/75)   \u001b[K\rremote: Counting objects:   6% (5/75)   \u001b[K\rremote: Counting objects:   8% (6/75)   \u001b[K\rremote: Counting objects:   9% (7/75)   \u001b[K\rremote: Counting objects:  10% (8/75)   \u001b[K\rremote: Counting objects:  12% (9/75)   \u001b[K\rremote: Counting objects:  13% (10/75)   \u001b[K\rremote: Counting objects:  14% (11/75)   \u001b[K\rremote: Counting objects:  16% (12/75)   \u001b[K\rremote: Counting objects:  17% (13/75)   \u001b[K\rremote: Counting objects:  18% (14/75)   \u001b[K\rremote: Counting objects:  20% (15/75)   \u001b[K\rremote: Counting objects:  21% (16/75)   \u001b[K\rremote: Counting objects:  22% (17/75)   \u001b[K\rremote: Counting objects:  24% (18/75)   \u001b[K\rremote: Counting objects:  25% (19/75)   \u001b[K\rremote: Counting objects:  26% (20/75)   \u001b[K\rremote: Counting objects:  28% (21/75)   \u001b[K\rremote: Counting objects:  29% (22/75)   \u001b[K\rremote: Counting objects:  30% (23/75)   \u001b[K\rremote: Counting objects:  32% (24/75)   \u001b[K\rremote: Counting objects:  33% (25/75)   \u001b[K\rremote: Counting objects:  34% (26/75)   \u001b[K\rremote: Counting objects:  36% (27/75)   \u001b[K\rremote: Counting objects:  37% (28/75)   \u001b[K\rremote: Counting objects:  38% (29/75)   \u001b[K\rremote: Counting objects:  40% (30/75)   \u001b[K\rremote: Counting objects:  41% (31/75)   \u001b[K\rremote: Counting objects:  42% (32/75)   \u001b[K\rremote: Counting objects:  44% (33/75)   \u001b[K\rremote: Counting objects:  45% (34/75)   \u001b[K\rremote: Counting objects:  46% (35/75)   \u001b[K\rremote: Counting objects:  48% (36/75)   \u001b[K\rremote: Counting objects:  49% (37/75)   \u001b[K\rremote: Counting objects:  50% (38/75)   \u001b[K\rremote: Counting objects:  52% (39/75)   \u001b[K\rremote: Counting objects:  53% (40/75)   \u001b[K\rremote: Counting objects:  54% (41/75)   \u001b[K\rremote: Counting objects:  56% (42/75)   \u001b[K\rremote: Counting objects:  57% (43/75)   \u001b[K\rremote: Counting objects:  58% (44/75)   \u001b[K\rremote: Counting objects:  60% (45/75)   \u001b[K\rremote: Counting objects:  61% (46/75)   \u001b[K\rremote: Counting objects:  62% (47/75)   \u001b[K\rremote: Counting objects:  64% (48/75)   \u001b[K\rremote: Counting objects:  65% (49/75)   \u001b[K\rremote: Counting objects:  66% (50/75)   \u001b[K\rremote: Counting objects:  68% (51/75)   \u001b[K\rremote: Counting objects:  69% (52/75)   \u001b[K\rremote: Counting objects:  70% (53/75)   \u001b[K\rremote: Counting objects:  72% (54/75)   \u001b[K\rremote: Counting objects:  73% (55/75)   \u001b[K\rremote: Counting objects:  74% (56/75)   \u001b[K\rremote: Counting objects:  76% (57/75)   \u001b[K\rremote: Counting objects:  77% (58/75)   \u001b[K\rremote: Counting objects:  78% (59/75)   \u001b[K\rremote: Counting objects:  80% (60/75)   \u001b[K\rremote: Counting objects:  81% (61/75)   \u001b[K\rremote: Counting objects:  82% (62/75)   \u001b[K\rremote: Counting objects:  84% (63/75)   \u001b[K\rremote: Counting objects:  85% (64/75)   \u001b[K\rremote: Counting objects:  86% (65/75)   \u001b[K\rremote: Counting objects:  88% (66/75)   \u001b[K\rremote: Counting objects:  89% (67/75)   \u001b[K\rremote: Counting objects:  90% (68/75)   \u001b[K\rremote: Counting objects:  92% (69/75)   \u001b[K\rremote: Counting objects:  93% (70/75)   \u001b[K\rremote: Counting objects:  94% (71/75)   \u001b[K\rremote: Counting objects:  96% (72/75)   \u001b[K\rremote: Counting objects:  97% (73/75)   \u001b[K\rremote: Counting objects:  98% (74/75)   \u001b[K\rremote: Counting objects: 100% (75/75)   \u001b[K\rremote: Counting objects: 100% (75/75), done.\u001b[K\n",
            "remote: Compressing objects: 100% (70/70), done.\u001b[K\n",
            "remote: Total 75 (delta 22), reused 0 (delta 0), pack-reused 0\u001b[K\n",
            "Unpacking objects: 100% (75/75), done.\n"
          ],
          "name": "stdout"
        }
      ]
    },
    {
      "metadata": {
        "id": "bikHDUHguMB5",
        "colab_type": "code",
        "colab": {}
      },
      "cell_type": "code",
      "source": [
        ""
      ],
      "execution_count": 0,
      "outputs": []
    }
  ]
}