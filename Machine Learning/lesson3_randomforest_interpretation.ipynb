{
  "nbformat": 4,
  "nbformat_minor": 0,
  "metadata": {
    "colab": {
      "name": "lesson3-randomforest_interpretation.ipynb",
      "version": "0.3.2",
      "provenance": [],
      "collapsed_sections": [],
      "include_colab_link": true
    },
    "kernelspec": {
      "name": "python3",
      "display_name": "Python 3"
    },
    "accelerator": "GPU"
  },
  "cells": [
    {
      "cell_type": "markdown",
      "metadata": {
        "id": "view-in-github",
        "colab_type": "text"
      },
      "source": [
        "<a href=\"https://colab.research.google.com/github/Giffy/fast.ai/blob/master/Machine%20Learning/lesson3_randomforest_interpretation.ipynb\" target=\"_parent\"><img src=\"https://colab.research.google.com/assets/colab-badge.svg\" alt=\"Open In Colab\"/></a>"
      ]
    },
    {
      "metadata": {
        "id": "KqU70wAsV4Eg",
        "colab_type": "text"
      },
      "cell_type": "markdown",
      "source": [
        "**Important: This notebook will only work with fastai-0.7.x. Do not try to run any fastai-1.x code from this path in the repository because it will load fastai-0.7.x**"
      ]
    },
    {
      "metadata": {
        "id": "blHgWuBCWd3B",
        "colab_type": "code",
        "colab": {}
      },
      "cell_type": "code",
      "source": [
        "print (\" Installing FastAI libraries...\")\n",
        "!pip install fastai==0.7.0 > null\n",
        "print (\"\\n Installing required libraries...\")\n",
        "!pip install feather > null\n",
        "!pip install scikit-misc==0.1.0 > null\n",
        "!pip install pdpbox==0.2.0 > null\n",
        "!pip install treeinterpreter==0.2.2 > null\n",
        "print (\"\\n Downloading train dataset...\")\n",
        "!wget https://raw.githubusercontent.com/Giffy/Personal_dataset_repository/master/train.tar.gz\n",
        "!tar xvf train.tar.gz > null\n",
        "print (\"\\n Downloading dataframe processed ...\")\n",
        "!wget https://raw.githubusercontent.com/Giffy/Personal_dataset_repository/master/df_raw.tar.gz >null\n",
        "!tar xvf df_raw.tar.gz > null"
      ],
      "execution_count": 0,
      "outputs": []
    },
    {
      "metadata": {
        "id": "5JlB-in0V4FP",
        "colab_type": "text"
      },
      "cell_type": "markdown",
      "source": [
        "# Random Forest Model interpretation"
      ]
    },
    {
      "metadata": {
        "id": "o8MlRmV3V4HM",
        "colab_type": "code",
        "colab": {}
      },
      "cell_type": "code",
      "source": [
        "%matplotlib inline\n",
        "\n",
        "from fastai.imports import *\n",
        "from fastai.structured import *\n",
        "from pandas_summary import DataFrameSummary\n",
        "from sklearn.ensemble import RandomForestRegressor, RandomForestClassifier\n",
        "from IPython.display import display\n",
        "from sklearn import metrics"
      ],
      "execution_count": 0,
      "outputs": []
    },
    {
      "metadata": {
        "id": "blGAEG0QV4Fp",
        "colab_type": "code",
        "colab": {}
      },
      "cell_type": "code",
      "source": [
        "%load_ext autoreload\n",
        "%autoreload 2"
      ],
      "execution_count": 0,
      "outputs": []
    },
    {
      "metadata": {
        "id": "XV1eQ_d9V4IS",
        "colab_type": "code",
        "colab": {}
      },
      "cell_type": "code",
      "source": [
        "set_plot_sizes(12,14,16)"
      ],
      "execution_count": 0,
      "outputs": []
    },
    {
      "metadata": {
        "id": "M5GxoMloV4JN",
        "colab_type": "text"
      },
      "cell_type": "markdown",
      "source": [
        "## Load in our data from last lesson"
      ]
    },
    {
      "metadata": {
        "id": "TbXjcWGAals3",
        "colab_type": "code",
        "colab": {}
      },
      "cell_type": "code",
      "source": [
        "PATH = \"/content/data/bulldozers/\"                        # changed data path"
      ],
      "execution_count": 0,
      "outputs": []
    },
    {
      "metadata": {
        "id": "vbQ_vRSNV4Jh",
        "colab_type": "code",
        "colab": {}
      },
      "cell_type": "code",
      "source": [
        "import feather                                            # Import feather library\n",
        "df_raw=feather.read_dataframe('tmp/bulldozers-raw')       # replaced:  df_raw = pd.read_feather('tmp/bulldozers-raw')\n",
        "df_trn, y_trn, nas = proc_df(df_raw, 'SalePrice')"
      ],
      "execution_count": 0,
      "outputs": []
    },
    {
      "metadata": {
        "id": "rHaQx1lUV4KO",
        "colab_type": "code",
        "colab": {}
      },
      "cell_type": "code",
      "source": [
        "def split_vals(a,n): return a[:n], a[n:]\n",
        "n_valid = 12000\n",
        "n_trn = len(df_trn)-n_valid\n",
        "X_train, X_valid = split_vals(df_trn, n_trn)\n",
        "y_train, y_valid = split_vals(y_trn, n_trn)\n",
        "raw_train, raw_valid = split_vals(df_raw, n_trn)"
      ],
      "execution_count": 0,
      "outputs": []
    },
    {
      "metadata": {
        "id": "F58xkd60V4K6",
        "colab_type": "code",
        "colab": {}
      },
      "cell_type": "code",
      "source": [
        "def rmse(x,y): return math.sqrt(((x-y)**2).mean())\n",
        "\n",
        "def print_score(m):\n",
        "    res = [rmse(m.predict(X_train), y_train), rmse(m.predict(X_valid), y_valid),\n",
        "                m.score(X_train, y_train), m.score(X_valid, y_valid)]\n",
        "    if hasattr(m, 'oob_score_'): res.append(m.oob_score_)\n",
        "    print(res)"
      ],
      "execution_count": 0,
      "outputs": []
    },
    {
      "metadata": {
        "id": "gXn3fo6AV4MI",
        "colab_type": "code",
        "colab": {}
      },
      "cell_type": "code",
      "source": [
        "df_raw.head(10)"
      ],
      "execution_count": 0,
      "outputs": []
    },
    {
      "metadata": {
        "id": "yjRoQ2UIV4Ng",
        "colab_type": "text"
      },
      "cell_type": "markdown",
      "source": [
        "# Confidence based on tree variance"
      ]
    },
    {
      "metadata": {
        "id": "wrKI7rvnV4OT",
        "colab_type": "text"
      },
      "cell_type": "markdown",
      "source": [
        "For model interpretation, there's no need to use the full dataset on each tree - using a subset will be both faster, and also provide better interpretability (since an overfit model will not provide much variance across trees)."
      ]
    },
    {
      "metadata": {
        "id": "JaWBak0lV4O0",
        "colab_type": "code",
        "colab": {}
      },
      "cell_type": "code",
      "source": [
        "set_rf_samples(50000)"
      ],
      "execution_count": 0,
      "outputs": []
    },
    {
      "metadata": {
        "id": "shHkk-6LV4P_",
        "colab_type": "code",
        "colab": {}
      },
      "cell_type": "code",
      "source": [
        "m = RandomForestRegressor(n_estimators=40, min_samples_leaf=3, max_features=0.5, n_jobs=-1, oob_score=True)\n",
        "m.fit(X_train, y_train)\n",
        "print_score(m)"
      ],
      "execution_count": 0,
      "outputs": []
    },
    {
      "metadata": {
        "id": "qdMFKY3TV4RS",
        "colab_type": "text"
      },
      "cell_type": "markdown",
      "source": [
        "We saw how the model averages predictions across the trees to get an estimate - but how can we know the confidence of the estimate? One simple way is to use the standard deviation of predictions, instead of just the mean. This tells us the *relative* confidence of predictions - that is, for rows where the trees give very different results, you would want to be more cautious of using those results, compared to cases where they are more consistent. Using the same example as in the last lesson when we looked at bagging:"
      ]
    },
    {
      "metadata": {
        "id": "SegvsfgCV4Rx",
        "colab_type": "code",
        "colab": {}
      },
      "cell_type": "code",
      "source": [
        "%time preds = np.stack([t.predict(X_valid) for t in m.estimators_])\n",
        "np.mean(preds[:,0]), np.std(preds[:,0])"
      ],
      "execution_count": 0,
      "outputs": []
    },
    {
      "metadata": {
        "id": "IytdgVs-V4TF",
        "colab_type": "text"
      },
      "cell_type": "markdown",
      "source": [
        "When we use python to loop through trees like this, we're calculating each in series, which is slow! We can use parallel processing to speed things up:"
      ]
    },
    {
      "metadata": {
        "id": "IiFhMUOdV4Ts",
        "colab_type": "code",
        "colab": {}
      },
      "cell_type": "code",
      "source": [
        "def get_preds(t): return t.predict(X_valid)\n",
        "%time preds = np.stack(parallel_trees(m, get_preds))\n",
        "np.mean(preds[:,0]), np.std(preds[:,0])"
      ],
      "execution_count": 0,
      "outputs": []
    },
    {
      "metadata": {
        "id": "NY8EueunV4Uu",
        "colab_type": "text"
      },
      "cell_type": "markdown",
      "source": [
        "We can see that different trees are giving different estimates this this auction. In order to see how prediction confidence varies, we can add this into our dataset."
      ]
    },
    {
      "metadata": {
        "id": "wSNQpVibV4U-",
        "colab_type": "code",
        "colab": {}
      },
      "cell_type": "code",
      "source": [
        "x = raw_valid.copy()\n",
        "x['pred_std'] = np.std(preds, axis=0)\n",
        "x['pred'] = np.mean(preds, axis=0)\n",
        "x.Enclosure.value_counts().plot.barh();"
      ],
      "execution_count": 0,
      "outputs": []
    },
    {
      "metadata": {
        "id": "DOFYKbw3V4WB",
        "colab_type": "code",
        "colab": {}
      },
      "cell_type": "code",
      "source": [
        "flds = ['Enclosure', 'SalePrice', 'pred', 'pred_std']\n",
        "enc_summ = x[flds].groupby('Enclosure', as_index=False).mean()\n",
        "enc_summ"
      ],
      "execution_count": 0,
      "outputs": []
    },
    {
      "metadata": {
        "id": "a1Uhy-4xV4XD",
        "colab_type": "code",
        "colab": {}
      },
      "cell_type": "code",
      "source": [
        "enc_summ = enc_summ[~pd.isnull(enc_summ.SalePrice)]\n",
        "enc_summ.plot('Enclosure', 'SalePrice', 'barh', xlim=(0,11));"
      ],
      "execution_count": 0,
      "outputs": []
    },
    {
      "metadata": {
        "id": "oeCUcYgLV4ZA",
        "colab_type": "code",
        "colab": {}
      },
      "cell_type": "code",
      "source": [
        "enc_summ.plot('Enclosure', 'pred', 'barh', xerr='pred_std', alpha=0.6, xlim=(0,11));"
      ],
      "execution_count": 0,
      "outputs": []
    },
    {
      "metadata": {
        "id": "p4qw6sbjV4al",
        "colab_type": "text"
      },
      "cell_type": "markdown",
      "source": [
        "*Question*: Why are the predictions nearly exactly right, but the error bars are quite wide?"
      ]
    },
    {
      "metadata": {
        "id": "XC4S_ZOGV4a3",
        "colab_type": "code",
        "colab": {}
      },
      "cell_type": "code",
      "source": [
        "raw_valid.ProductSize.value_counts().plot.barh();"
      ],
      "execution_count": 0,
      "outputs": []
    },
    {
      "metadata": {
        "id": "0i5VVAZ_V4c5",
        "colab_type": "code",
        "colab": {}
      },
      "cell_type": "code",
      "source": [
        "flds = ['ProductSize', 'SalePrice', 'pred', 'pred_std']\n",
        "summ = x[flds].groupby(flds[0]).mean()\n",
        "summ"
      ],
      "execution_count": 0,
      "outputs": []
    },
    {
      "metadata": {
        "id": "OLcEH4pcV4eI",
        "colab_type": "code",
        "colab": {}
      },
      "cell_type": "code",
      "source": [
        "(summ.pred_std/summ.pred).sort_values(ascending=False)"
      ],
      "execution_count": 0,
      "outputs": []
    },
    {
      "metadata": {
        "id": "xnqwfd58V4fP",
        "colab_type": "text"
      },
      "cell_type": "markdown",
      "source": [
        "# Feature importance"
      ]
    },
    {
      "metadata": {
        "id": "gKnlKwvfV4fa",
        "colab_type": "text"
      },
      "cell_type": "markdown",
      "source": [
        "It's not normally enough to just to know that a model can make accurate predictions - we also want to know *how* it's making predictions. The most important way to see this is with *feature importance*."
      ]
    },
    {
      "metadata": {
        "id": "7W4DCnKFV4fr",
        "colab_type": "code",
        "colab": {}
      },
      "cell_type": "code",
      "source": [
        "fi = rf_feat_importance(m, df_trn); fi[:10]"
      ],
      "execution_count": 0,
      "outputs": []
    },
    {
      "metadata": {
        "id": "lFsH7OqeV4gJ",
        "colab_type": "code",
        "colab": {}
      },
      "cell_type": "code",
      "source": [
        "fi.plot('cols', 'imp', figsize=(10,6), legend=False);"
      ],
      "execution_count": 0,
      "outputs": []
    },
    {
      "metadata": {
        "id": "ZPEzitPpV4h9",
        "colab_type": "code",
        "colab": {}
      },
      "cell_type": "code",
      "source": [
        "def plot_fi(fi): return fi.plot('cols', 'imp', 'barh', figsize=(12,7), legend=False)"
      ],
      "execution_count": 0,
      "outputs": []
    },
    {
      "metadata": {
        "id": "vxlI5dvLV4jM",
        "colab_type": "code",
        "colab": {}
      },
      "cell_type": "code",
      "source": [
        "plot_fi(fi[:30]);"
      ],
      "execution_count": 0,
      "outputs": []
    },
    {
      "metadata": {
        "id": "GPuEVdPEV4kV",
        "colab_type": "code",
        "colab": {}
      },
      "cell_type": "code",
      "source": [
        "to_keep = fi[fi.imp>0.005].cols; len(to_keep)"
      ],
      "execution_count": 0,
      "outputs": []
    },
    {
      "metadata": {
        "id": "cxBz7DrFV4k7",
        "colab_type": "code",
        "colab": {}
      },
      "cell_type": "code",
      "source": [
        "df_keep = df_trn[to_keep].copy()\n",
        "X_train, X_valid = split_vals(df_keep, n_trn)"
      ],
      "execution_count": 0,
      "outputs": []
    },
    {
      "metadata": {
        "id": "qQXs1YrZV4la",
        "colab_type": "code",
        "colab": {}
      },
      "cell_type": "code",
      "source": [
        "m = RandomForestRegressor(n_estimators=40, min_samples_leaf=3, max_features=0.5,\n",
        "                          n_jobs=-1, oob_score=True)\n",
        "m.fit(X_train, y_train)\n",
        "print_score(m)"
      ],
      "execution_count": 0,
      "outputs": []
    },
    {
      "metadata": {
        "id": "1LWCBysHV4mh",
        "colab_type": "code",
        "colab": {}
      },
      "cell_type": "code",
      "source": [
        "fi = rf_feat_importance(m, df_keep)\n",
        "plot_fi(fi);"
      ],
      "execution_count": 0,
      "outputs": []
    },
    {
      "metadata": {
        "id": "Wsz4FV9qV4nQ",
        "colab_type": "text"
      },
      "cell_type": "markdown",
      "source": [
        "## One-hot encoding"
      ]
    },
    {
      "metadata": {
        "id": "BXiQiSWmV4nX",
        "colab_type": "text"
      },
      "cell_type": "markdown",
      "source": [
        "proc_df's optional *max_n_cat* argument will turn some categorical variables into new columns.\n",
        "\n",
        "For example, the column **ProductSize** which has 6 categories:\n",
        "\n",
        "* Large\n",
        "* Large / Medium\n",
        "* Medium\n",
        "* Compact\n",
        "* Small\n",
        "* Mini\n",
        "\n",
        "gets turned into 6 new columns:\n",
        "\n",
        "* ProductSize_Large\n",
        "* ProductSize_Large / Medium\n",
        "* ProductSize_Medium\n",
        "* ProductSize_Compact\n",
        "* ProductSize_Small\n",
        "* ProductSize_Mini\n",
        "\n",
        "and the column **ProductSize** gets removed.\n",
        "\n",
        "It will only happen to columns whose number of categories is no bigger than the value of the *max_n_cat* argument.\n",
        "\n",
        "Now some of these new columns may prove to have more important features than in the earlier situation, where all categories were in one column."
      ]
    },
    {
      "metadata": {
        "id": "wu94qnMtV4nf",
        "colab_type": "code",
        "colab": {}
      },
      "cell_type": "code",
      "source": [
        "df_trn2, y_trn, nas = proc_df(df_raw, 'SalePrice', max_n_cat=7)\n",
        "X_train, X_valid = split_vals(df_trn2, n_trn)\n",
        "\n",
        "m = RandomForestRegressor(n_estimators=40, min_samples_leaf=3, max_features=0.6, n_jobs=-1, oob_score=True)\n",
        "m.fit(X_train, y_train)\n",
        "print_score(m)"
      ],
      "execution_count": 0,
      "outputs": []
    },
    {
      "metadata": {
        "id": "TpwympZ1V4n6",
        "colab_type": "code",
        "colab": {}
      },
      "cell_type": "code",
      "source": [
        "fi = rf_feat_importance(m, df_trn2)\n",
        "plot_fi(fi[:25]);"
      ],
      "execution_count": 0,
      "outputs": []
    },
    {
      "metadata": {
        "id": "wrNchhf-V4o_",
        "colab_type": "text"
      },
      "cell_type": "markdown",
      "source": [
        "# Removing redundant features"
      ]
    },
    {
      "metadata": {
        "id": "4_JY8YDCV4pH",
        "colab_type": "text"
      },
      "cell_type": "markdown",
      "source": [
        "One thing that makes this harder to interpret is that there seem to be some variables with very similar meanings. Let's try to remove redundent features."
      ]
    },
    {
      "metadata": {
        "id": "08HY9FmmV4pj",
        "colab_type": "code",
        "colab": {}
      },
      "cell_type": "code",
      "source": [
        "from scipy.cluster import hierarchy as hc"
      ],
      "execution_count": 0,
      "outputs": []
    },
    {
      "metadata": {
        "id": "m6fOi3FGV4sP",
        "colab_type": "code",
        "colab": {}
      },
      "cell_type": "code",
      "source": [
        "corr = np.round(scipy.stats.spearmanr(df_keep).correlation, 4)\n",
        "corr_condensed = hc.distance.squareform(1-corr)\n",
        "z = hc.linkage(corr_condensed, method='average')\n",
        "fig = plt.figure(figsize=(16,10))\n",
        "dendrogram = hc.dendrogram(z, labels=df_keep.columns, orientation='left', leaf_font_size=16)\n",
        "plt.show()"
      ],
      "execution_count": 0,
      "outputs": []
    },
    {
      "metadata": {
        "id": "FcZk3DQWV4tl",
        "colab_type": "text"
      },
      "cell_type": "markdown",
      "source": [
        "Let's try removing some of these related features to see if the model can be simplified without impacting the accuracy."
      ]
    },
    {
      "metadata": {
        "id": "nMWFV1poV4tv",
        "colab_type": "code",
        "colab": {}
      },
      "cell_type": "code",
      "source": [
        "def get_oob(df):\n",
        "    m = RandomForestRegressor(n_estimators=30, min_samples_leaf=5, max_features=0.6, n_jobs=-1, oob_score=True)\n",
        "    x, _ = split_vals(df, n_trn)\n",
        "    m.fit(x, y_train)\n",
        "    return m.oob_score_"
      ],
      "execution_count": 0,
      "outputs": []
    },
    {
      "metadata": {
        "id": "KXMeyxFLV4ux",
        "colab_type": "text"
      },
      "cell_type": "markdown",
      "source": [
        "Here's our baseline."
      ]
    },
    {
      "metadata": {
        "id": "4wUiopjoV4u-",
        "colab_type": "code",
        "colab": {}
      },
      "cell_type": "code",
      "source": [
        "get_oob(df_keep)"
      ],
      "execution_count": 0,
      "outputs": []
    },
    {
      "metadata": {
        "id": "YFNuHRKXV4wQ",
        "colab_type": "text"
      },
      "cell_type": "markdown",
      "source": [
        "Now we try removing each variable one at a time."
      ]
    },
    {
      "metadata": {
        "id": "1CUoBuRFV4wX",
        "colab_type": "code",
        "colab": {}
      },
      "cell_type": "code",
      "source": [
        "for c in ('saleYear', 'saleElapsed', 'fiModelDesc', 'fiBaseModel', 'Grouser_Tracks', 'Coupler_System'):\n",
        "    print(c, get_oob(df_keep.drop(c, axis=1)))"
      ],
      "execution_count": 0,
      "outputs": []
    },
    {
      "metadata": {
        "id": "ZWz0Osu3V4ws",
        "colab_type": "text"
      },
      "cell_type": "markdown",
      "source": [
        "It looks like we can try one from each group for removal. Let's see what that does."
      ]
    },
    {
      "metadata": {
        "id": "ezJwoUGzV4wz",
        "colab_type": "code",
        "colab": {}
      },
      "cell_type": "code",
      "source": [
        "to_drop = ['saleYear', 'fiBaseModel', 'Grouser_Tracks']\n",
        "get_oob(df_keep.drop(to_drop, axis=1))"
      ],
      "execution_count": 0,
      "outputs": []
    },
    {
      "metadata": {
        "id": "6McHfHJuV4xK",
        "colab_type": "text"
      },
      "cell_type": "markdown",
      "source": [
        "Looking good! Let's use this dataframe from here. We'll save the list of columns so we can reuse it later."
      ]
    },
    {
      "metadata": {
        "id": "ZBp4XozRV4xR",
        "colab_type": "code",
        "colab": {}
      },
      "cell_type": "code",
      "source": [
        "df_keep.drop(to_drop, axis=1, inplace=True)\n",
        "X_train, X_valid = split_vals(df_keep, n_trn)"
      ],
      "execution_count": 0,
      "outputs": []
    },
    {
      "metadata": {
        "id": "v_DXFLygV4x0",
        "colab_type": "code",
        "colab": {}
      },
      "cell_type": "code",
      "source": [
        "np.save('tmp/keep_cols.npy', np.array(df_keep.columns))"
      ],
      "execution_count": 0,
      "outputs": []
    },
    {
      "metadata": {
        "id": "em3x3dIIV4yN",
        "colab_type": "code",
        "colab": {}
      },
      "cell_type": "code",
      "source": [
        "keep_cols = np.load('tmp/keep_cols.npy')\n",
        "df_keep = df_trn[keep_cols]"
      ],
      "execution_count": 0,
      "outputs": []
    },
    {
      "metadata": {
        "id": "s7TXeYKZV4yg",
        "colab_type": "text"
      },
      "cell_type": "markdown",
      "source": [
        "And let's see how this model looks on the full dataset."
      ]
    },
    {
      "metadata": {
        "id": "go45qNL1V4yq",
        "colab_type": "code",
        "colab": {}
      },
      "cell_type": "code",
      "source": [
        "reset_rf_samples()"
      ],
      "execution_count": 0,
      "outputs": []
    },
    {
      "metadata": {
        "id": "Jt6oBwbZV4y4",
        "colab_type": "code",
        "colab": {}
      },
      "cell_type": "code",
      "source": [
        "m = RandomForestRegressor(n_estimators=40, min_samples_leaf=3, max_features=0.5, n_jobs=-1, oob_score=True)\n",
        "m.fit(X_train, y_train)\n",
        "print_score(m)"
      ],
      "execution_count": 0,
      "outputs": []
    },
    {
      "metadata": {
        "id": "EUPP13fLV4zR",
        "colab_type": "text"
      },
      "cell_type": "markdown",
      "source": [
        "# Partial dependence"
      ]
    },
    {
      "metadata": {
        "id": "PhgfR3oMV4zZ",
        "colab_type": "code",
        "colab": {}
      },
      "cell_type": "code",
      "source": [
        "from pdpbox import pdp\n",
        "from plotnine import *"
      ],
      "execution_count": 0,
      "outputs": []
    },
    {
      "metadata": {
        "id": "zJDgePnPV40v",
        "colab_type": "code",
        "colab": {}
      },
      "cell_type": "code",
      "source": [
        "set_rf_samples(50000)"
      ],
      "execution_count": 0,
      "outputs": []
    },
    {
      "metadata": {
        "id": "BQpcU7VeV41K",
        "colab_type": "text"
      },
      "cell_type": "markdown",
      "source": [
        "This next analysis will be a little easier if we use the 1-hot encoded categorical variables, so let's load them up again."
      ]
    },
    {
      "metadata": {
        "id": "Fq4MofbhV41P",
        "colab_type": "code",
        "colab": {}
      },
      "cell_type": "code",
      "source": [
        "df_trn2, y_trn, nas = proc_df(df_raw, 'SalePrice', max_n_cat=7)\n",
        "X_train, X_valid = split_vals(df_trn2, n_trn)\n",
        "m = RandomForestRegressor(n_estimators=40, min_samples_leaf=3, max_features=0.6, n_jobs=-1)\n",
        "m.fit(X_train, y_train);"
      ],
      "execution_count": 0,
      "outputs": []
    },
    {
      "metadata": {
        "id": "Glcm5f-dV41s",
        "colab_type": "code",
        "colab": {}
      },
      "cell_type": "code",
      "source": [
        "plot_fi(rf_feat_importance(m, df_trn2)[:10]);"
      ],
      "execution_count": 0,
      "outputs": []
    },
    {
      "metadata": {
        "id": "A4slaEv5V42n",
        "colab_type": "code",
        "colab": {}
      },
      "cell_type": "code",
      "source": [
        "df_raw.plot('YearMade', 'saleElapsed', 'scatter', alpha=0.01, figsize=(10,8));"
      ],
      "execution_count": 0,
      "outputs": []
    },
    {
      "metadata": {
        "id": "EFXGhrKuV43e",
        "colab_type": "code",
        "colab": {}
      },
      "cell_type": "code",
      "source": [
        "x_all = get_sample(df_raw[df_raw.YearMade>1930], 500)"
      ],
      "execution_count": 0,
      "outputs": []
    },
    {
      "metadata": {
        "id": "E9-WNHuNV44m",
        "colab_type": "code",
        "colab": {}
      },
      "cell_type": "code",
      "source": [
        "import skmisc\n",
        "ggplot(x_all, aes('YearMade', 'SalePrice'))+stat_smooth(se=True, method='loess')"
      ],
      "execution_count": 0,
      "outputs": []
    },
    {
      "metadata": {
        "id": "El_vSlb3V45J",
        "colab_type": "code",
        "colab": {}
      },
      "cell_type": "code",
      "source": [
        "x = get_sample(X_train[X_train.YearMade>1930], 500)"
      ],
      "execution_count": 0,
      "outputs": []
    },
    {
      "metadata": {
        "id": "ubB003kOV45p",
        "colab_type": "code",
        "colab": {}
      },
      "cell_type": "code",
      "source": [
        "def plot_pdp(feat, clusters=None, feat_name=None):\n",
        "    feat_name = feat_name or feat\n",
        "    p = pdp.pdp_isolate(m, x, x.columns, feat)\n",
        "    return pdp.pdp_plot(p, feat_name, plot_lines=True,\n",
        "                        cluster=clusters is not None,\n",
        "                        n_cluster_centers=clusters)"
      ],
      "execution_count": 0,
      "outputs": []
    },
    {
      "metadata": {
        "id": "55CgTjq0V46C",
        "colab_type": "code",
        "colab": {}
      },
      "cell_type": "code",
      "source": [
        "plot_pdp('YearMade')"
      ],
      "execution_count": 0,
      "outputs": []
    },
    {
      "metadata": {
        "id": "GyVvV_1WV478",
        "colab_type": "code",
        "colab": {}
      },
      "cell_type": "code",
      "source": [
        "plot_pdp('YearMade', clusters=5)"
      ],
      "execution_count": 0,
      "outputs": []
    },
    {
      "metadata": {
        "id": "gFQweA8cq8Hx",
        "colab_type": "code",
        "colab": {}
      },
      "cell_type": "code",
      "source": [
        "##  Line added to draw pdp_interact properly\n",
        "!sed -i '251s/.* /    inter_ax.clabel(c2, /g' /usr/local/lib/python3.6/dist-packages/pdpbox/pdp_plot_utils.py"
      ],
      "execution_count": 0,
      "outputs": []
    },
    {
      "metadata": {
        "id": "QWZhVKdzV49K",
        "colab_type": "code",
        "colab": {}
      },
      "cell_type": "code",
      "source": [
        "feats = ['saleElapsed', 'YearMade']\n",
        "p = pdp.pdp_interact(m, x, x.columns, feats)\n",
        "pdp.pdp_interact_plot(p, feats)"
      ],
      "execution_count": 0,
      "outputs": []
    },
    {
      "metadata": {
        "id": "WXp9u-i_V49y",
        "colab_type": "code",
        "colab": {}
      },
      "cell_type": "code",
      "source": [
        "plot_pdp(['Enclosure_EROPS w AC', 'Enclosure_EROPS', 'Enclosure_OROPS'], 5, 'Enclosure')"
      ],
      "execution_count": 0,
      "outputs": []
    },
    {
      "metadata": {
        "id": "-G5-tIuCV4-U",
        "colab_type": "code",
        "colab": {}
      },
      "cell_type": "code",
      "source": [
        "df_raw.YearMade[df_raw.YearMade<1950] = 1950\n",
        "df_keep['age'] = df_raw['age'] = df_raw.saleYear-df_raw.YearMade"
      ],
      "execution_count": 0,
      "outputs": []
    },
    {
      "metadata": {
        "id": "BgUDnZUgV5AT",
        "colab_type": "code",
        "colab": {}
      },
      "cell_type": "code",
      "source": [
        "X_train, X_valid = split_vals(df_keep, n_trn)\n",
        "m = RandomForestRegressor(n_estimators=40, min_samples_leaf=3, max_features=0.6, n_jobs=-1)\n",
        "m.fit(X_train, y_train)\n",
        "plot_fi(rf_feat_importance(m, df_keep));"
      ],
      "execution_count": 0,
      "outputs": []
    },
    {
      "metadata": {
        "id": "khacw6FwV5B6",
        "colab_type": "text"
      },
      "cell_type": "markdown",
      "source": [
        "# Tree interpreter"
      ]
    },
    {
      "metadata": {
        "id": "SYMX3TzuV5CU",
        "colab_type": "code",
        "colab": {}
      },
      "cell_type": "code",
      "source": [
        "from treeinterpreter import treeinterpreter as ti"
      ],
      "execution_count": 0,
      "outputs": []
    },
    {
      "metadata": {
        "id": "NRzpDYlPV5C8",
        "colab_type": "code",
        "colab": {}
      },
      "cell_type": "code",
      "source": [
        "df_train, df_valid = split_vals(df_raw[df_keep.columns], n_trn)"
      ],
      "execution_count": 0,
      "outputs": []
    },
    {
      "metadata": {
        "id": "N-0sjK5mV5Dd",
        "colab_type": "code",
        "colab": {}
      },
      "cell_type": "code",
      "source": [
        "row = X_valid.values[None,0]; row"
      ],
      "execution_count": 0,
      "outputs": []
    },
    {
      "metadata": {
        "id": "tDrf-Gx3V5EJ",
        "colab_type": "code",
        "colab": {}
      },
      "cell_type": "code",
      "source": [
        "prediction, bias, contributions = ti.predict(m, row)"
      ],
      "execution_count": 0,
      "outputs": []
    },
    {
      "metadata": {
        "id": "yt7yMXF4V5Ei",
        "colab_type": "code",
        "colab": {}
      },
      "cell_type": "code",
      "source": [
        "prediction[0], bias[0]"
      ],
      "execution_count": 0,
      "outputs": []
    },
    {
      "metadata": {
        "id": "MeM_tMC2V5F0",
        "colab_type": "code",
        "colab": {}
      },
      "cell_type": "code",
      "source": [
        "idxs = np.argsort(contributions[0])"
      ],
      "execution_count": 0,
      "outputs": []
    },
    {
      "metadata": {
        "id": "lvxTWo0CV5Gy",
        "colab_type": "code",
        "colab": {}
      },
      "cell_type": "code",
      "source": [
        "[o for o in zip(df_keep.columns[idxs], df_valid.iloc[0][idxs], contributions[0][idxs])]"
      ],
      "execution_count": 0,
      "outputs": []
    },
    {
      "metadata": {
        "id": "rmcqHA24V5Hw",
        "colab_type": "code",
        "colab": {}
      },
      "cell_type": "code",
      "source": [
        "contributions[0].sum()"
      ],
      "execution_count": 0,
      "outputs": []
    },
    {
      "metadata": {
        "id": "hUAhK250V5JG",
        "colab_type": "text"
      },
      "cell_type": "markdown",
      "source": [
        "# Extrapolation"
      ]
    },
    {
      "metadata": {
        "id": "VkSdKwEYV5Jf",
        "colab_type": "code",
        "colab": {}
      },
      "cell_type": "code",
      "source": [
        "df_ext = df_keep.copy()\n",
        "df_ext['is_valid'] = 1\n",
        "df_ext.is_valid[:n_trn] = 0\n",
        "x, y, nas = proc_df(df_ext, 'is_valid')"
      ],
      "execution_count": 0,
      "outputs": []
    },
    {
      "metadata": {
        "id": "hOjt60MAV5Lc",
        "colab_type": "code",
        "colab": {}
      },
      "cell_type": "code",
      "source": [
        "m = RandomForestClassifier(n_estimators=40, min_samples_leaf=3, max_features=0.5, n_jobs=-1, oob_score=True)\n",
        "m.fit(x, y);\n",
        "m.oob_score_"
      ],
      "execution_count": 0,
      "outputs": []
    },
    {
      "metadata": {
        "id": "S3lJnzS_V5M5",
        "colab_type": "code",
        "colab": {}
      },
      "cell_type": "code",
      "source": [
        "fi = rf_feat_importance(m, x); fi[:10]"
      ],
      "execution_count": 0,
      "outputs": []
    },
    {
      "metadata": {
        "id": "EKjt-Km3V5Nh",
        "colab_type": "code",
        "colab": {}
      },
      "cell_type": "code",
      "source": [
        "feats=['SalesID', 'saleElapsed', 'MachineID']"
      ],
      "execution_count": 0,
      "outputs": []
    },
    {
      "metadata": {
        "id": "XgE7OWSHV5N0",
        "colab_type": "code",
        "colab": {}
      },
      "cell_type": "code",
      "source": [
        "(X_train[feats]/1000).describe()"
      ],
      "execution_count": 0,
      "outputs": []
    },
    {
      "metadata": {
        "id": "p3rxt2cCV5OL",
        "colab_type": "code",
        "colab": {}
      },
      "cell_type": "code",
      "source": [
        "(X_valid[feats]/1000).describe()"
      ],
      "execution_count": 0,
      "outputs": []
    },
    {
      "metadata": {
        "id": "Rmz_Tv4pV5PJ",
        "colab_type": "code",
        "colab": {}
      },
      "cell_type": "code",
      "source": [
        "x.drop(feats, axis=1, inplace=True)"
      ],
      "execution_count": 0,
      "outputs": []
    },
    {
      "metadata": {
        "id": "_hYUiJ8_V5Po",
        "colab_type": "code",
        "colab": {}
      },
      "cell_type": "code",
      "source": [
        "m = RandomForestClassifier(n_estimators=40, min_samples_leaf=3, max_features=0.5, n_jobs=-1, oob_score=True)\n",
        "m.fit(x, y);\n",
        "m.oob_score_"
      ],
      "execution_count": 0,
      "outputs": []
    },
    {
      "metadata": {
        "id": "94ajqxRpV5QH",
        "colab_type": "code",
        "colab": {}
      },
      "cell_type": "code",
      "source": [
        "fi = rf_feat_importance(m, x); fi[:10]"
      ],
      "execution_count": 0,
      "outputs": []
    },
    {
      "metadata": {
        "id": "-tiefg-WV5Qc",
        "colab_type": "code",
        "colab": {}
      },
      "cell_type": "code",
      "source": [
        "set_rf_samples(50000)"
      ],
      "execution_count": 0,
      "outputs": []
    },
    {
      "metadata": {
        "id": "IItmzSD5V5Q-",
        "colab_type": "code",
        "colab": {}
      },
      "cell_type": "code",
      "source": [
        "feats=['SalesID', 'saleElapsed', 'MachineID', 'age', 'YearMade', 'saleDayofyear']"
      ],
      "execution_count": 0,
      "outputs": []
    },
    {
      "metadata": {
        "id": "Rew94yFhV5RR",
        "colab_type": "code",
        "colab": {}
      },
      "cell_type": "code",
      "source": [
        "X_train, X_valid = split_vals(df_keep, n_trn)\n",
        "m = RandomForestRegressor(n_estimators=40, min_samples_leaf=3, max_features=0.5, n_jobs=-1, oob_score=True)\n",
        "m.fit(X_train, y_train)\n",
        "print_score(m)"
      ],
      "execution_count": 0,
      "outputs": []
    },
    {
      "metadata": {
        "id": "gHm5yAplV5Rl",
        "colab_type": "code",
        "colab": {}
      },
      "cell_type": "code",
      "source": [
        "for f in feats:\n",
        "    df_subs = df_keep.drop(f, axis=1)\n",
        "    X_train, X_valid = split_vals(df_subs, n_trn)\n",
        "    m = RandomForestRegressor(n_estimators=40, min_samples_leaf=3, max_features=0.5, n_jobs=-1, oob_score=True)\n",
        "    m.fit(X_train, y_train)\n",
        "    print(f)\n",
        "    print_score(m)"
      ],
      "execution_count": 0,
      "outputs": []
    },
    {
      "metadata": {
        "id": "kwZdD38tV5R4",
        "colab_type": "code",
        "colab": {}
      },
      "cell_type": "code",
      "source": [
        "reset_rf_samples()"
      ],
      "execution_count": 0,
      "outputs": []
    },
    {
      "metadata": {
        "id": "Tzx0kLAgV5SZ",
        "colab_type": "code",
        "colab": {}
      },
      "cell_type": "code",
      "source": [
        "df_subs = df_keep.drop(['SalesID', 'MachineID', 'saleDayofyear'], axis=1)\n",
        "X_train, X_valid = split_vals(df_subs, n_trn)\n",
        "m = RandomForestRegressor(n_estimators=40, min_samples_leaf=3, max_features=0.5, n_jobs=-1, oob_score=True)\n",
        "m.fit(X_train, y_train)\n",
        "print_score(m)"
      ],
      "execution_count": 0,
      "outputs": []
    },
    {
      "metadata": {
        "id": "9VZ3oYkjV5TT",
        "colab_type": "code",
        "colab": {}
      },
      "cell_type": "code",
      "source": [
        "plot_fi(rf_feat_importance(m, X_train));"
      ],
      "execution_count": 0,
      "outputs": []
    },
    {
      "metadata": {
        "id": "wRfoAYR3V5UA",
        "colab_type": "code",
        "colab": {}
      },
      "cell_type": "code",
      "source": [
        "np.save('tmp/subs_cols.npy', np.array(df_subs.columns))"
      ],
      "execution_count": 0,
      "outputs": []
    },
    {
      "metadata": {
        "id": "hp-aiWipV5US",
        "colab_type": "text"
      },
      "cell_type": "markdown",
      "source": [
        "# Our final model!"
      ]
    },
    {
      "metadata": {
        "id": "2WeDACefV5Uc",
        "colab_type": "code",
        "colab": {}
      },
      "cell_type": "code",
      "source": [
        "m = RandomForestRegressor(n_estimators=160, max_features=0.5, n_jobs=-1, oob_score=True)\n",
        "%time m.fit(X_train, y_train)\n",
        "print_score(m)"
      ],
      "execution_count": 0,
      "outputs": []
    }
  ]
}