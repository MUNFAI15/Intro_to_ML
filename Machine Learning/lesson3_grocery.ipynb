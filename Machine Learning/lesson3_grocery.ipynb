{
  "nbformat": 4,
  "nbformat_minor": 0,
  "metadata": {
    "colab": {
      "name": "lesson3-grocery.ipynb",
      "version": "0.3.2",
      "provenance": [],
      "include_colab_link": true
    },
    "kernelspec": {
      "display_name": "Python 3",
      "language": "python",
      "name": "python3"
    }
  },
  "cells": [
    {
      "cell_type": "markdown",
      "metadata": {
        "id": "view-in-github",
        "colab_type": "text"
      },
      "source": [
        "<a href=\"https://colab.research.google.com/github/Giffy/fast.ai/blob/master/Machine%20Learning/lesson3_grocery.ipynb\" target=\"_parent\"><img src=\"https://colab.research.google.com/assets/colab-badge.svg\" alt=\"Open In Colab\"/></a>"
      ]
    },
    {
      "metadata": {
        "id": "SepvaI5aUCes",
        "colab_type": "text"
      },
      "cell_type": "markdown",
      "source": [
        "# Google Colab setup\n",
        "Installs fast.ai 0.7.0 and the required libraries to run the notebook.\n",
        "\n",
        "Also downloads the required datasets."
      ]
    },
    {
      "metadata": {
        "id": "uZLvPKByUEnE",
        "colab_type": "code",
        "colab": {}
      },
      "cell_type": "code",
      "source": [
        "print (\" Installing FastAI libraries ... (takes 2 min)\")\n",
        "!pip install fastai==0.7.0 > /dev/null\n",
        "print (\"\\n Clonning FastAI repository locally ...\")\n",
        "!git clone https://github.com/fastai/fastai.git fastai_ml\n",
        "!ln -s fastai_ml/courses/ml1/fastai/ fastai"
      ],
      "execution_count": 0,
      "outputs": []
    },
    {
      "metadata": {
        "id": "Oe1CdVcBUKFz",
        "colab_type": "code",
        "colab": {}
      },
      "cell_type": "code",
      "source": [
        "print (\"\\n Installing required libraries...\")\n",
        "!pip install --upgrade setuptools > /dev/null\n",
        "!pip install feather > /dev/null\n",
        "!pip install scikit-misc==0.1.0 > /dev/null\n",
        "!pip install pdpbox==0.2.0 > /dev/null\n",
        "!pip install treeinterpreter==0.2.2 > /dev/null\n",
        "print (\"\\n Downloading datasets...\")\n",
        "!wget https://raw.githubusercontent.com/Giffy/Personal_dataset_repository/master/grocery-sales-train.7z\n",
        "!7z x -y grocery-sales-train.7z > /dev/null\n",
        "!wget https://raw.githubusercontent.com/Giffy/Personal_dataset_repository/master/grocery-sales-test.tar.gz\n",
        "!tar xvf grocery-sales-test.tar.gz > /dev/null\n",
        "print (\"\\n Import libraries\")\n",
        "import pandas as pd\n",
        "import os\n",
        "import numpy as np"
      ],
      "execution_count": 0,
      "outputs": []
    },
    {
      "metadata": {
        "_uuid": "d926806e83da165dc5e5cd9fbba3f30e0d36df82",
        "id": "EISU3o0gTfj6",
        "colab_type": "text"
      },
      "cell_type": "markdown",
      "source": [
        "# 1 Imports "
      ]
    },
    {
      "metadata": {
        "id": "P6xBCVgdTflL",
        "colab_type": "code",
        "colab": {
          "base_uri": "https://localhost:8080/",
          "height": 52
        },
        "outputId": "a9a0fdf8-d793-4420-a4ad-7486d9ee8dda"
      },
      "cell_type": "code",
      "source": [
        "%load_ext autoreload\n",
        "%autoreload 2\n",
        "%matplotlib inline"
      ],
      "execution_count": 48,
      "outputs": [
        {
          "output_type": "stream",
          "text": [
            "The autoreload extension is already loaded. To reload it, use:\n",
            "  %reload_ext autoreload\n"
          ],
          "name": "stdout"
        }
      ]
    },
    {
      "metadata": {
        "_cell_guid": "b1076dfc-b9ad-4769-8c92-a6c4dae69d19",
        "_uuid": "8f2839f25d086af736a60e9eeb907d3b93b6e0e5",
        "id": "ppem6FI-Tfnm",
        "colab_type": "code",
        "colab": {}
      },
      "cell_type": "code",
      "source": [
        "from fastai.imports import *\n",
        "from fastai.structured import *\n",
        "\n",
        "from sklearn.ensemble import RandomForestRegressor\n",
        "from IPython.display import display\n",
        "\n",
        "from sklearn import metrics"
      ],
      "execution_count": 0,
      "outputs": []
    },
    {
      "metadata": {
        "_cell_guid": "79c7e3d0-c299-4dcb-8224-4455121ee9b0",
        "_uuid": "d629ff2d2480ee46fbb7e2d37f6b5fab8052498a",
        "id": "H4h4u4c4TfqM",
        "colab_type": "code",
        "outputId": "6ecda70a-bda8-414e-cdcf-3c6bfcf85a90",
        "colab": {
          "base_uri": "https://localhost:8080/",
          "height": 34
        }
      },
      "cell_type": "code",
      "source": [
        "PATH = 'grocery-sales/'\n",
        "!ls {PATH}"
      ],
      "execution_count": 61,
      "outputs": [
        {
          "output_type": "stream",
          "text": [
            "test.csv  train_basic.csv\n"
          ],
          "name": "stdout"
        }
      ]
    },
    {
      "metadata": {
        "_uuid": "c39551e1aa0b31682c15c2a23c36c6abf83eb4ab",
        "id": "N6oW-YEGTfsZ",
        "colab_type": "text"
      },
      "cell_type": "markdown",
      "source": [
        "# 2 Read data"
      ]
    },
    {
      "metadata": {
        "_uuid": "7b156ece90949701ee9d03598ac82de92bc04e5c",
        "id": "lmd_mIbKTfs4",
        "colab_type": "code",
        "colab": {}
      },
      "cell_type": "code",
      "source": [
        "types = {\n",
        "    'id': 'int64',\n",
        "    'item_nbr': 'int32',\n",
        "    'store_nbr': 'int8',\n",
        "    'unit_sales': 'float32',\n",
        "    'onpromotion': 'object'\n",
        "}"
      ],
      "execution_count": 0,
      "outputs": []
    },
    {
      "metadata": {
        "_uuid": "820a03c2cede08b15a3a034be9afc755ed779816",
        "id": "ihfpeDtXTfuh",
        "colab_type": "code",
        "outputId": "c7fe2398-e01a-4506-b828-484abe29a94c",
        "colab": {
          "base_uri": "https://localhost:8080/",
          "height": 52
        }
      },
      "cell_type": "code",
      "source": [
        "%%time\n",
        "df_all = pd.read_csv(f'{PATH}train_basic.csv', parse_dates=['date'], dtype=types, \n",
        "                     infer_datetime_format=True)#, skiprows=range(1,100000000))"
      ],
      "execution_count": 34,
      "outputs": [
        {
          "output_type": "stream",
          "text": [
            "CPU times: user 2.65 s, sys: 97.9 ms, total: 2.75 s\n",
            "Wall time: 2.75 s\n"
          ],
          "name": "stdout"
        }
      ]
    },
    {
      "metadata": {
        "_uuid": "b4c881d08e93f95eba88a232b2bb9485131e2b4e",
        "id": "l4bfOxx6Tfvc",
        "colab_type": "code",
        "outputId": "db8e8d09-c873-422e-e3a2-331623c620a2",
        "colab": {
          "base_uri": "https://localhost:8080/",
          "height": 52
        }
      },
      "cell_type": "code",
      "source": [
        "df_all.onpromotion.fillna(False, inplace=True)\n",
        "df_all.onpromotion = df_all.onpromotion.map({'False': False, 'True': True})\n",
        "df_all.onpromotion = df_all.onpromotion.astype(bool)\n",
        "\n",
        "os.makedirs('tmp', exist_ok=True)\n",
        "%time df_all.to_feather('tmp/raw_groceries')"
      ],
      "execution_count": 36,
      "outputs": [
        {
          "output_type": "stream",
          "text": [
            "CPU times: user 89.6 ms, sys: 67.5 ms, total: 157 ms\n",
            "Wall time: 418 ms\n"
          ],
          "name": "stdout"
        }
      ]
    },
    {
      "metadata": {
        "_uuid": "0f14aba164eab0e77fd8fb23cea60eb951a88b8b",
        "id": "Jrh0wdk0Tfwf",
        "colab_type": "code",
        "outputId": "253fb307-00e3-4493-a1fa-35a8828aab18",
        "colab": {
          "base_uri": "https://localhost:8080/",
          "height": 492
        }
      },
      "cell_type": "code",
      "source": [
        "%time df_all.describe(include='all')"
      ],
      "execution_count": 37,
      "outputs": [
        {
          "output_type": "stream",
          "text": [
            "CPU times: user 850 ms, sys: 1.33 ms, total: 852 ms\n",
            "Wall time: 1.02 s\n"
          ],
          "name": "stdout"
        },
        {
          "output_type": "execute_result",
          "data": {
            "text/html": [
              "<div>\n",
              "<style scoped>\n",
              "    .dataframe tbody tr th:only-of-type {\n",
              "        vertical-align: middle;\n",
              "    }\n",
              "\n",
              "    .dataframe tbody tr th {\n",
              "        vertical-align: top;\n",
              "    }\n",
              "\n",
              "    .dataframe thead th {\n",
              "        text-align: right;\n",
              "    }\n",
              "</style>\n",
              "<table border=\"1\" class=\"dataframe\">\n",
              "  <thead>\n",
              "    <tr style=\"text-align: right;\">\n",
              "      <th></th>\n",
              "      <th>Unnamed: 0</th>\n",
              "      <th>id</th>\n",
              "      <th>date</th>\n",
              "      <th>store_nbr</th>\n",
              "      <th>item_nbr</th>\n",
              "      <th>unit_sales</th>\n",
              "      <th>onpromotion</th>\n",
              "    </tr>\n",
              "  </thead>\n",
              "  <tbody>\n",
              "    <tr>\n",
              "      <th>count</th>\n",
              "      <td>1.997040e+06</td>\n",
              "      <td>1.997040e+06</td>\n",
              "      <td>1997040</td>\n",
              "      <td>1.997040e+06</td>\n",
              "      <td>1.997040e+06</td>\n",
              "      <td>1.997040e+06</td>\n",
              "      <td>1997040</td>\n",
              "    </tr>\n",
              "    <tr>\n",
              "      <th>unique</th>\n",
              "      <td>NaN</td>\n",
              "      <td>NaN</td>\n",
              "      <td>1684</td>\n",
              "      <td>NaN</td>\n",
              "      <td>NaN</td>\n",
              "      <td>NaN</td>\n",
              "      <td>2</td>\n",
              "    </tr>\n",
              "    <tr>\n",
              "      <th>top</th>\n",
              "      <td>NaN</td>\n",
              "      <td>NaN</td>\n",
              "      <td>2017-05-07 00:00:00</td>\n",
              "      <td>NaN</td>\n",
              "      <td>NaN</td>\n",
              "      <td>NaN</td>\n",
              "      <td>False</td>\n",
              "    </tr>\n",
              "    <tr>\n",
              "      <th>freq</th>\n",
              "      <td>NaN</td>\n",
              "      <td>NaN</td>\n",
              "      <td>1908</td>\n",
              "      <td>NaN</td>\n",
              "      <td>NaN</td>\n",
              "      <td>NaN</td>\n",
              "      <td>1528448</td>\n",
              "    </tr>\n",
              "    <tr>\n",
              "      <th>first</th>\n",
              "      <td>NaN</td>\n",
              "      <td>NaN</td>\n",
              "      <td>2013-01-01 00:00:00</td>\n",
              "      <td>NaN</td>\n",
              "      <td>NaN</td>\n",
              "      <td>NaN</td>\n",
              "      <td>NaN</td>\n",
              "    </tr>\n",
              "    <tr>\n",
              "      <th>last</th>\n",
              "      <td>NaN</td>\n",
              "      <td>NaN</td>\n",
              "      <td>2017-08-15 00:00:00</td>\n",
              "      <td>NaN</td>\n",
              "      <td>NaN</td>\n",
              "      <td>NaN</td>\n",
              "      <td>NaN</td>\n",
              "    </tr>\n",
              "    <tr>\n",
              "      <th>mean</th>\n",
              "      <td>2.449852e+07</td>\n",
              "      <td>6.271723e+07</td>\n",
              "      <td>NaN</td>\n",
              "      <td>2.745692e+01</td>\n",
              "      <td>9.728621e+05</td>\n",
              "      <td>8.551911e+00</td>\n",
              "      <td>NaN</td>\n",
              "    </tr>\n",
              "    <tr>\n",
              "      <th>std</th>\n",
              "      <td>5.764959e+05</td>\n",
              "      <td>3.619772e+07</td>\n",
              "      <td>NaN</td>\n",
              "      <td>1.633284e+01</td>\n",
              "      <td>5.202940e+05</td>\n",
              "      <td>2.057796e+01</td>\n",
              "      <td>NaN</td>\n",
              "    </tr>\n",
              "    <tr>\n",
              "      <th>min</th>\n",
              "      <td>2.350000e+07</td>\n",
              "      <td>2.060000e+02</td>\n",
              "      <td>NaN</td>\n",
              "      <td>1.000000e+00</td>\n",
              "      <td>9.699500e+04</td>\n",
              "      <td>-1.768000e+03</td>\n",
              "      <td>NaN</td>\n",
              "    </tr>\n",
              "    <tr>\n",
              "      <th>25%</th>\n",
              "      <td>2.399926e+07</td>\n",
              "      <td>3.138601e+07</td>\n",
              "      <td>NaN</td>\n",
              "      <td>1.200000e+01</td>\n",
              "      <td>5.227210e+05</td>\n",
              "      <td>2.000000e+00</td>\n",
              "      <td>NaN</td>\n",
              "    </tr>\n",
              "    <tr>\n",
              "      <th>50%</th>\n",
              "      <td>2.449852e+07</td>\n",
              "      <td>6.269716e+07</td>\n",
              "      <td>NaN</td>\n",
              "      <td>2.800000e+01</td>\n",
              "      <td>9.595020e+05</td>\n",
              "      <td>4.000000e+00</td>\n",
              "      <td>NaN</td>\n",
              "    </tr>\n",
              "    <tr>\n",
              "      <th>75%</th>\n",
              "      <td>2.499778e+07</td>\n",
              "      <td>9.402764e+07</td>\n",
              "      <td>NaN</td>\n",
              "      <td>4.300000e+01</td>\n",
              "      <td>1.354380e+06</td>\n",
              "      <td>9.000000e+00</td>\n",
              "      <td>NaN</td>\n",
              "    </tr>\n",
              "    <tr>\n",
              "      <th>max</th>\n",
              "      <td>2.549704e+07</td>\n",
              "      <td>1.254970e+08</td>\n",
              "      <td>NaN</td>\n",
              "      <td>5.400000e+01</td>\n",
              "      <td>2.127114e+06</td>\n",
              "      <td>6.909000e+03</td>\n",
              "      <td>NaN</td>\n",
              "    </tr>\n",
              "  </tbody>\n",
              "</table>\n",
              "</div>"
            ],
            "text/plain": [
              "          Unnamed: 0            id                 date     store_nbr  \\\n",
              "count   1.997040e+06  1.997040e+06              1997040  1.997040e+06   \n",
              "unique           NaN           NaN                 1684           NaN   \n",
              "top              NaN           NaN  2017-05-07 00:00:00           NaN   \n",
              "freq             NaN           NaN                 1908           NaN   \n",
              "first            NaN           NaN  2013-01-01 00:00:00           NaN   \n",
              "last             NaN           NaN  2017-08-15 00:00:00           NaN   \n",
              "mean    2.449852e+07  6.271723e+07                  NaN  2.745692e+01   \n",
              "std     5.764959e+05  3.619772e+07                  NaN  1.633284e+01   \n",
              "min     2.350000e+07  2.060000e+02                  NaN  1.000000e+00   \n",
              "25%     2.399926e+07  3.138601e+07                  NaN  1.200000e+01   \n",
              "50%     2.449852e+07  6.269716e+07                  NaN  2.800000e+01   \n",
              "75%     2.499778e+07  9.402764e+07                  NaN  4.300000e+01   \n",
              "max     2.549704e+07  1.254970e+08                  NaN  5.400000e+01   \n",
              "\n",
              "            item_nbr    unit_sales onpromotion  \n",
              "count   1.997040e+06  1.997040e+06     1997040  \n",
              "unique           NaN           NaN           2  \n",
              "top              NaN           NaN       False  \n",
              "freq             NaN           NaN     1528448  \n",
              "first            NaN           NaN         NaN  \n",
              "last             NaN           NaN         NaN  \n",
              "mean    9.728621e+05  8.551911e+00         NaN  \n",
              "std     5.202940e+05  2.057796e+01         NaN  \n",
              "min     9.699500e+04 -1.768000e+03         NaN  \n",
              "25%     5.227210e+05  2.000000e+00         NaN  \n",
              "50%     9.595020e+05  4.000000e+00         NaN  \n",
              "75%     1.354380e+06  9.000000e+00         NaN  \n",
              "max     2.127114e+06  6.909000e+03         NaN  "
            ]
          },
          "metadata": {
            "tags": []
          },
          "execution_count": 37
        }
      ]
    },
    {
      "metadata": {
        "_uuid": "6a44de686ee950f9f9a2bfbf5479af81628e854a",
        "id": "mwXF6wntTfxT",
        "colab_type": "code",
        "outputId": "f1da92a1-92f3-417d-dd3f-7fe2e3275ef6",
        "colab": {
          "base_uri": "https://localhost:8080/",
          "height": 457
        }
      },
      "cell_type": "code",
      "source": [
        "df_test = pd.read_csv(f'{PATH}test.csv',parse_dates=['date'], dtype=types, infer_datetime_format=True)\n",
        "\n",
        "df_test.onpromotion.fillna(False, inplace=True)\n",
        "df_test.onpromotion = df_all.onpromotion.map({'False': False, 'True': True})\n",
        "df_test.onpromotion = df_all.onpromotion.astype(bool)\n",
        "df_test.describe(include='all')"
      ],
      "execution_count": 43,
      "outputs": [
        {
          "output_type": "execute_result",
          "data": {
            "text/html": [
              "<div>\n",
              "<style scoped>\n",
              "    .dataframe tbody tr th:only-of-type {\n",
              "        vertical-align: middle;\n",
              "    }\n",
              "\n",
              "    .dataframe tbody tr th {\n",
              "        vertical-align: top;\n",
              "    }\n",
              "\n",
              "    .dataframe thead th {\n",
              "        text-align: right;\n",
              "    }\n",
              "</style>\n",
              "<table border=\"1\" class=\"dataframe\">\n",
              "  <thead>\n",
              "    <tr style=\"text-align: right;\">\n",
              "      <th></th>\n",
              "      <th>id</th>\n",
              "      <th>date</th>\n",
              "      <th>store_nbr</th>\n",
              "      <th>item_nbr</th>\n",
              "      <th>onpromotion</th>\n",
              "    </tr>\n",
              "  </thead>\n",
              "  <tbody>\n",
              "    <tr>\n",
              "      <th>count</th>\n",
              "      <td>3.370464e+06</td>\n",
              "      <td>3370464</td>\n",
              "      <td>3.370464e+06</td>\n",
              "      <td>3.370464e+06</td>\n",
              "      <td>1997040</td>\n",
              "    </tr>\n",
              "    <tr>\n",
              "      <th>unique</th>\n",
              "      <td>NaN</td>\n",
              "      <td>16</td>\n",
              "      <td>NaN</td>\n",
              "      <td>NaN</td>\n",
              "      <td>2</td>\n",
              "    </tr>\n",
              "    <tr>\n",
              "      <th>top</th>\n",
              "      <td>NaN</td>\n",
              "      <td>2017-08-27 00:00:00</td>\n",
              "      <td>NaN</td>\n",
              "      <td>NaN</td>\n",
              "      <td>False</td>\n",
              "    </tr>\n",
              "    <tr>\n",
              "      <th>freq</th>\n",
              "      <td>NaN</td>\n",
              "      <td>210654</td>\n",
              "      <td>NaN</td>\n",
              "      <td>NaN</td>\n",
              "      <td>1528448</td>\n",
              "    </tr>\n",
              "    <tr>\n",
              "      <th>first</th>\n",
              "      <td>NaN</td>\n",
              "      <td>2017-08-16 00:00:00</td>\n",
              "      <td>NaN</td>\n",
              "      <td>NaN</td>\n",
              "      <td>NaN</td>\n",
              "    </tr>\n",
              "    <tr>\n",
              "      <th>last</th>\n",
              "      <td>NaN</td>\n",
              "      <td>2017-08-31 00:00:00</td>\n",
              "      <td>NaN</td>\n",
              "      <td>NaN</td>\n",
              "      <td>NaN</td>\n",
              "    </tr>\n",
              "    <tr>\n",
              "      <th>mean</th>\n",
              "      <td>1.271823e+08</td>\n",
              "      <td>NaN</td>\n",
              "      <td>2.750000e+01</td>\n",
              "      <td>1.244798e+06</td>\n",
              "      <td>NaN</td>\n",
              "    </tr>\n",
              "    <tr>\n",
              "      <th>std</th>\n",
              "      <td>9.729693e+05</td>\n",
              "      <td>NaN</td>\n",
              "      <td>1.558579e+01</td>\n",
              "      <td>5.898362e+05</td>\n",
              "      <td>NaN</td>\n",
              "    </tr>\n",
              "    <tr>\n",
              "      <th>min</th>\n",
              "      <td>1.254970e+08</td>\n",
              "      <td>NaN</td>\n",
              "      <td>1.000000e+00</td>\n",
              "      <td>9.699500e+04</td>\n",
              "      <td>NaN</td>\n",
              "    </tr>\n",
              "    <tr>\n",
              "      <th>25%</th>\n",
              "      <td>1.263397e+08</td>\n",
              "      <td>NaN</td>\n",
              "      <td>1.400000e+01</td>\n",
              "      <td>8.053210e+05</td>\n",
              "      <td>NaN</td>\n",
              "    </tr>\n",
              "    <tr>\n",
              "      <th>50%</th>\n",
              "      <td>1.271823e+08</td>\n",
              "      <td>NaN</td>\n",
              "      <td>2.750000e+01</td>\n",
              "      <td>1.294665e+06</td>\n",
              "      <td>NaN</td>\n",
              "    </tr>\n",
              "    <tr>\n",
              "      <th>75%</th>\n",
              "      <td>1.280249e+08</td>\n",
              "      <td>NaN</td>\n",
              "      <td>4.100000e+01</td>\n",
              "      <td>1.730015e+06</td>\n",
              "      <td>NaN</td>\n",
              "    </tr>\n",
              "    <tr>\n",
              "      <th>max</th>\n",
              "      <td>1.288675e+08</td>\n",
              "      <td>NaN</td>\n",
              "      <td>5.400000e+01</td>\n",
              "      <td>2.134244e+06</td>\n",
              "      <td>NaN</td>\n",
              "    </tr>\n",
              "  </tbody>\n",
              "</table>\n",
              "</div>"
            ],
            "text/plain": [
              "                  id                 date     store_nbr      item_nbr  \\\n",
              "count   3.370464e+06              3370464  3.370464e+06  3.370464e+06   \n",
              "unique           NaN                   16           NaN           NaN   \n",
              "top              NaN  2017-08-27 00:00:00           NaN           NaN   \n",
              "freq             NaN               210654           NaN           NaN   \n",
              "first            NaN  2017-08-16 00:00:00           NaN           NaN   \n",
              "last             NaN  2017-08-31 00:00:00           NaN           NaN   \n",
              "mean    1.271823e+08                  NaN  2.750000e+01  1.244798e+06   \n",
              "std     9.729693e+05                  NaN  1.558579e+01  5.898362e+05   \n",
              "min     1.254970e+08                  NaN  1.000000e+00  9.699500e+04   \n",
              "25%     1.263397e+08                  NaN  1.400000e+01  8.053210e+05   \n",
              "50%     1.271823e+08                  NaN  2.750000e+01  1.294665e+06   \n",
              "75%     1.280249e+08                  NaN  4.100000e+01  1.730015e+06   \n",
              "max     1.288675e+08                  NaN  5.400000e+01  2.134244e+06   \n",
              "\n",
              "       onpromotion  \n",
              "count      1997040  \n",
              "unique           2  \n",
              "top          False  \n",
              "freq       1528448  \n",
              "first          NaN  \n",
              "last           NaN  \n",
              "mean           NaN  \n",
              "std            NaN  \n",
              "min            NaN  \n",
              "25%            NaN  \n",
              "50%            NaN  \n",
              "75%            NaN  \n",
              "max            NaN  "
            ]
          },
          "metadata": {
            "tags": []
          },
          "execution_count": 43
        }
      ]
    },
    {
      "metadata": {
        "_uuid": "b015edb1897f5dda284f5a091d1033c31fadc89f",
        "id": "VD4HOcUfTfyn",
        "colab_type": "code",
        "outputId": "48407792-1597-4dea-99c0-c82068f07302",
        "colab": {
          "base_uri": "https://localhost:8080/",
          "height": 244
        }
      },
      "cell_type": "code",
      "source": [
        "df_all.tail()"
      ],
      "execution_count": 44,
      "outputs": [
        {
          "output_type": "execute_result",
          "data": {
            "text/html": [
              "<div>\n",
              "<style scoped>\n",
              "    .dataframe tbody tr th:only-of-type {\n",
              "        vertical-align: middle;\n",
              "    }\n",
              "\n",
              "    .dataframe tbody tr th {\n",
              "        vertical-align: top;\n",
              "    }\n",
              "\n",
              "    .dataframe thead th {\n",
              "        text-align: right;\n",
              "    }\n",
              "</style>\n",
              "<table border=\"1\" class=\"dataframe\">\n",
              "  <thead>\n",
              "    <tr style=\"text-align: right;\">\n",
              "      <th></th>\n",
              "      <th>Unnamed: 0</th>\n",
              "      <th>id</th>\n",
              "      <th>store_nbr</th>\n",
              "      <th>item_nbr</th>\n",
              "      <th>unit_sales</th>\n",
              "      <th>onpromotion</th>\n",
              "      <th>Year</th>\n",
              "      <th>Month</th>\n",
              "      <th>Week</th>\n",
              "      <th>Day</th>\n",
              "      <th>Dayofweek</th>\n",
              "      <th>Dayofyear</th>\n",
              "      <th>Is_month_end</th>\n",
              "      <th>Is_month_start</th>\n",
              "      <th>Is_quarter_end</th>\n",
              "      <th>Is_quarter_start</th>\n",
              "      <th>Is_year_end</th>\n",
              "      <th>Is_year_start</th>\n",
              "      <th>Elapsed</th>\n",
              "    </tr>\n",
              "  </thead>\n",
              "  <tbody>\n",
              "    <tr>\n",
              "      <th>1997035</th>\n",
              "      <td>25497035</td>\n",
              "      <td>73734366</td>\n",
              "      <td>54</td>\n",
              "      <td>1464238</td>\n",
              "      <td>3.135494</td>\n",
              "      <td>False</td>\n",
              "      <td>2016</td>\n",
              "      <td>3</td>\n",
              "      <td>11</td>\n",
              "      <td>18</td>\n",
              "      <td>4</td>\n",
              "      <td>78</td>\n",
              "      <td>False</td>\n",
              "      <td>False</td>\n",
              "      <td>False</td>\n",
              "      <td>False</td>\n",
              "      <td>False</td>\n",
              "      <td>False</td>\n",
              "      <td>1458259200</td>\n",
              "    </tr>\n",
              "    <tr>\n",
              "      <th>1997036</th>\n",
              "      <td>25497036</td>\n",
              "      <td>101679247</td>\n",
              "      <td>49</td>\n",
              "      <td>1489899</td>\n",
              "      <td>3.401197</td>\n",
              "      <td>True</td>\n",
              "      <td>2016</td>\n",
              "      <td>12</td>\n",
              "      <td>52</td>\n",
              "      <td>31</td>\n",
              "      <td>5</td>\n",
              "      <td>366</td>\n",
              "      <td>True</td>\n",
              "      <td>False</td>\n",
              "      <td>True</td>\n",
              "      <td>False</td>\n",
              "      <td>True</td>\n",
              "      <td>False</td>\n",
              "      <td>1483142400</td>\n",
              "    </tr>\n",
              "    <tr>\n",
              "      <th>1997037</th>\n",
              "      <td>25497037</td>\n",
              "      <td>124420242</td>\n",
              "      <td>38</td>\n",
              "      <td>849080</td>\n",
              "      <td>1.098612</td>\n",
              "      <td>False</td>\n",
              "      <td>2017</td>\n",
              "      <td>8</td>\n",
              "      <td>31</td>\n",
              "      <td>5</td>\n",
              "      <td>5</td>\n",
              "      <td>217</td>\n",
              "      <td>False</td>\n",
              "      <td>False</td>\n",
              "      <td>False</td>\n",
              "      <td>False</td>\n",
              "      <td>False</td>\n",
              "      <td>False</td>\n",
              "      <td>1501891200</td>\n",
              "    </tr>\n",
              "    <tr>\n",
              "      <th>1997038</th>\n",
              "      <td>25497038</td>\n",
              "      <td>35980557</td>\n",
              "      <td>31</td>\n",
              "      <td>1463798</td>\n",
              "      <td>1.386294</td>\n",
              "      <td>False</td>\n",
              "      <td>2014</td>\n",
              "      <td>11</td>\n",
              "      <td>48</td>\n",
              "      <td>25</td>\n",
              "      <td>1</td>\n",
              "      <td>329</td>\n",
              "      <td>False</td>\n",
              "      <td>False</td>\n",
              "      <td>False</td>\n",
              "      <td>False</td>\n",
              "      <td>False</td>\n",
              "      <td>False</td>\n",
              "      <td>1416873600</td>\n",
              "    </tr>\n",
              "    <tr>\n",
              "      <th>1997039</th>\n",
              "      <td>25497039</td>\n",
              "      <td>85369289</td>\n",
              "      <td>28</td>\n",
              "      <td>362035</td>\n",
              "      <td>2.708050</td>\n",
              "      <td>False</td>\n",
              "      <td>2016</td>\n",
              "      <td>7</td>\n",
              "      <td>29</td>\n",
              "      <td>18</td>\n",
              "      <td>0</td>\n",
              "      <td>200</td>\n",
              "      <td>False</td>\n",
              "      <td>False</td>\n",
              "      <td>False</td>\n",
              "      <td>False</td>\n",
              "      <td>False</td>\n",
              "      <td>False</td>\n",
              "      <td>1468800000</td>\n",
              "    </tr>\n",
              "  </tbody>\n",
              "</table>\n",
              "</div>"
            ],
            "text/plain": [
              "         Unnamed: 0         id  store_nbr  item_nbr  unit_sales  onpromotion  \\\n",
              "1997035    25497035   73734366         54   1464238    3.135494        False   \n",
              "1997036    25497036  101679247         49   1489899    3.401197         True   \n",
              "1997037    25497037  124420242         38    849080    1.098612        False   \n",
              "1997038    25497038   35980557         31   1463798    1.386294        False   \n",
              "1997039    25497039   85369289         28    362035    2.708050        False   \n",
              "\n",
              "         Year  Month  Week  Day  Dayofweek  Dayofyear  Is_month_end  \\\n",
              "1997035  2016      3    11   18          4         78         False   \n",
              "1997036  2016     12    52   31          5        366          True   \n",
              "1997037  2017      8    31    5          5        217         False   \n",
              "1997038  2014     11    48   25          1        329         False   \n",
              "1997039  2016      7    29   18          0        200         False   \n",
              "\n",
              "         Is_month_start  Is_quarter_end  Is_quarter_start  Is_year_end  \\\n",
              "1997035           False           False             False        False   \n",
              "1997036           False            True             False         True   \n",
              "1997037           False           False             False        False   \n",
              "1997038           False           False             False        False   \n",
              "1997039           False           False             False        False   \n",
              "\n",
              "         Is_year_start     Elapsed  \n",
              "1997035          False  1458259200  \n",
              "1997036          False  1483142400  \n",
              "1997037          False  1501891200  \n",
              "1997038          False  1416873600  \n",
              "1997039          False  1468800000  "
            ]
          },
          "metadata": {
            "tags": []
          },
          "execution_count": 44
        }
      ]
    },
    {
      "metadata": {
        "_uuid": "66b2255b166b0ba9418eaee30dede612e486a742",
        "id": "O-Of3ZFzTf0Q",
        "colab_type": "code",
        "colab": {}
      },
      "cell_type": "code",
      "source": [
        "df_all.unit_sales = np.log1p(np.clip(df_all.unit_sales, 0, None))"
      ],
      "execution_count": 0,
      "outputs": []
    },
    {
      "metadata": {
        "_uuid": "1e674f68916a82ef047dcccddff526d56f5d12d4",
        "id": "rAcNhOoxTf0_",
        "colab_type": "code",
        "colab": {}
      },
      "cell_type": "code",
      "source": [
        "%time add_datepart(df_all, 'date')"
      ],
      "execution_count": 0,
      "outputs": []
    },
    {
      "metadata": {
        "_uuid": "fc36971f58f735164f36e2e03e7a88e08b460b77",
        "id": "LTFWXnrRTf1o",
        "colab_type": "code",
        "outputId": "08be41ae-3cee-41e3-f9f4-bb4b92cb3fb1",
        "colab": {
          "base_uri": "https://localhost:8080/",
          "height": 34
        }
      },
      "cell_type": "code",
      "source": [
        "def split_vals(a, n): return a[:n].copy(), a[n:].copy()\n",
        "\n",
        "n_valid = len(df_test)\n",
        "n_trn = len(df_all) - n_valid\n",
        "train, valid = split_vals(df_all, n_trn)\n",
        "train.shape, valid.shape"
      ],
      "execution_count": 51,
      "outputs": [
        {
          "output_type": "execute_result",
          "data": {
            "text/plain": [
              "((623616, 19), (1373424, 19))"
            ]
          },
          "metadata": {
            "tags": []
          },
          "execution_count": 51
        }
      ]
    },
    {
      "metadata": {
        "_uuid": "760b1b85e895738fc0acd843c5c6ef54497b5614",
        "id": "jJoO-sYZTf2a",
        "colab_type": "code",
        "outputId": "d0453660-06b2-4c5c-c5b5-c8a0e1ba4918",
        "colab": {
          "base_uri": "https://localhost:8080/",
          "height": 52
        }
      },
      "cell_type": "code",
      "source": [
        "%%time\n",
        "trn, y, nas = proc_df(train, 'unit_sales')\n",
        "val, y_val, nas = proc_df(valid, 'unit_sales')"
      ],
      "execution_count": 52,
      "outputs": [
        {
          "output_type": "stream",
          "text": [
            "CPU times: user 1.1 s, sys: 450 ms, total: 1.55 s\n",
            "Wall time: 1.55 s\n"
          ],
          "name": "stdout"
        }
      ]
    },
    {
      "metadata": {
        "_uuid": "2559cfeed3bb2edc75fab43bdc2e3ec5f7e462c4",
        "id": "O8fZS1cuTf3G",
        "colab_type": "text"
      },
      "cell_type": "markdown",
      "source": [
        "# 3 Models"
      ]
    },
    {
      "metadata": {
        "_uuid": "d9b795bf862355e5864616f6a29529bb6347fd7d",
        "id": "dhpsyabFTf3W",
        "colab_type": "code",
        "colab": {}
      },
      "cell_type": "code",
      "source": [
        "def rmse(x, y): return math.sqrt(((x-y)**2).mean())\n",
        "\n",
        "def print_score(m):\n",
        "    res = [rmse(m.predict(x), y), rmse(m.predict(val), y_val),\n",
        "          m.score(x, y), m.score(val, y_val)]\n",
        "    if hasattr(m, 'oob_score_'): res.append(m.oob_score_)\n",
        "    print(res)"
      ],
      "execution_count": 0,
      "outputs": []
    },
    {
      "metadata": {
        "_uuid": "8bb9ca082b1ba30bc56eafcb23b8c9605be37d11",
        "id": "2XASKHqCTf4C",
        "colab_type": "code",
        "colab": {}
      },
      "cell_type": "code",
      "source": [
        "set_rf_samples(1000000)"
      ],
      "execution_count": 0,
      "outputs": []
    },
    {
      "metadata": {
        "_uuid": "e53570d5cc91dad54601de72a7662bc8d18e728b",
        "id": "hZZi7126Tf4f",
        "colab_type": "code",
        "outputId": "7bc9396d-65e2-478b-998b-2f37416ccdc1",
        "colab": {
          "base_uri": "https://localhost:8080/",
          "height": 52
        }
      },
      "cell_type": "code",
      "source": [
        "%time x = np.array(trn, dtype=np.float32)"
      ],
      "execution_count": 55,
      "outputs": [
        {
          "output_type": "stream",
          "text": [
            "CPU times: user 604 ms, sys: 60 ms, total: 664 ms\n",
            "Wall time: 663 ms\n"
          ],
          "name": "stdout"
        }
      ]
    },
    {
      "metadata": {
        "_uuid": "9e15182481a92e93a628fcf5a34b56e0d06075b8",
        "id": "uy5Myf-mTf5g",
        "colab_type": "code",
        "outputId": "53d299ce-e697-4ca6-9c26-c6e251f11c3f",
        "colab": {
          "base_uri": "https://localhost:8080/",
          "height": 156
        }
      },
      "cell_type": "code",
      "source": [
        "m = RandomForestRegressor(n_estimators=20, min_samples_leaf=100, n_jobs=-1)\n",
        "%time m.fit(x, y)"
      ],
      "execution_count": 56,
      "outputs": [
        {
          "output_type": "stream",
          "text": [
            "CPU times: user 3min 7s, sys: 46.9 ms, total: 3min 7s\n",
            "Wall time: 1min 34s\n"
          ],
          "name": "stdout"
        },
        {
          "output_type": "execute_result",
          "data": {
            "text/plain": [
              "RandomForestRegressor(bootstrap=True, criterion='mse', max_depth=None,\n",
              "           max_features='auto', max_leaf_nodes=None,\n",
              "           min_impurity_decrease=0.0, min_impurity_split=None,\n",
              "           min_samples_leaf=100, min_samples_split=2,\n",
              "           min_weight_fraction_leaf=0.0, n_estimators=20, n_jobs=-1,\n",
              "           oob_score=False, random_state=None, verbose=0, warm_start=False)"
            ]
          },
          "metadata": {
            "tags": []
          },
          "execution_count": 56
        }
      ]
    },
    {
      "metadata": {
        "_uuid": "422b5358727db6b6475ed7ec0446a177ff407427",
        "id": "hFEdRHTSTf6y",
        "colab_type": "code",
        "outputId": "5f67a055-4e9e-4881-ab4d-01a2d8ab0e97",
        "colab": {
          "base_uri": "https://localhost:8080/",
          "height": 34
        }
      },
      "cell_type": "code",
      "source": [
        "print_score(m)"
      ],
      "execution_count": 57,
      "outputs": [
        {
          "output_type": "stream",
          "text": [
            "[0.2755978284934819, 0.2825882837845608, 0.2091973121808461, 0.1663215907637169]\n"
          ],
          "name": "stdout"
        }
      ]
    },
    {
      "metadata": {
        "_uuid": "f164f30de9eee55ebbd4521aaf01f8587f540ad7",
        "id": "ZAl5CYTQTf7c",
        "colab_type": "code",
        "outputId": "9e3dd306-ea09-4bb9-864e-6745eb124e3f",
        "colab": {
          "base_uri": "https://localhost:8080/",
          "height": 69
        }
      },
      "cell_type": "code",
      "source": [
        "m = RandomForestRegressor(n_estimators=20, min_samples_leaf=10, n_jobs=-1)\n",
        "%time m.fit(x, y)\n",
        "print_score(m)"
      ],
      "execution_count": 58,
      "outputs": [
        {
          "output_type": "stream",
          "text": [
            "CPU times: user 4min 3s, sys: 64.5 ms, total: 4min 4s\n",
            "Wall time: 2min 2s\n",
            "[0.21480555727835826, 0.27923860092421304, 0.5195949324892778, 0.1859686004319775]\n"
          ],
          "name": "stdout"
        }
      ]
    },
    {
      "metadata": {
        "_uuid": "f0ded0c32510e6ef71767c8f0267916c84b9a63b",
        "id": "eFJ285ELTf8T",
        "colab_type": "code",
        "colab": {
          "base_uri": "https://localhost:8080/",
          "height": 69
        },
        "outputId": "53931467-f4c4-4f96-d3dd-bf535de428f7"
      },
      "cell_type": "code",
      "source": [
        "m = RandomForestRegressor(n_estimators=20, min_samples_leaf=3, n_jobs=2)\n",
        "%time m.fit(x, y)\n",
        "print_score(m)"
      ],
      "execution_count": 60,
      "outputs": [
        {
          "output_type": "stream",
          "text": [
            "CPU times: user 4min 34s, sys: 153 ms, total: 4min 35s\n",
            "Wall time: 2min 18s\n",
            "[0.13157912419584467, 0.28526866715043125, 0.8197436649452858, 0.1504315097745349]\n"
          ],
          "name": "stdout"
        }
      ]
    },
    {
      "metadata": {
        "id": "2wnFLiKXOAgh",
        "colab_type": "code",
        "colab": {}
      },
      "cell_type": "code",
      "source": [
        ""
      ],
      "execution_count": 0,
      "outputs": []
    }
  ]
}