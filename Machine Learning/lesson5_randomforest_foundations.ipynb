{
  "nbformat": 4,
  "nbformat_minor": 0,
  "metadata": {
    "colab": {
      "name": "lesson3-randomforest_foundations.ipynb",
      "version": "0.3.2",
      "provenance": [],
      "collapsed_sections": [
        "6bOVz5k0RIgK",
        "mEp8L1DPRIgU",
        "DSxM2QOTRIme",
        "jXyVRGu7RIrs",
        "iNGCrSrDRIv6"
      ],
      "include_colab_link": true
    },
    "kernelspec": {
      "name": "python3",
      "display_name": "Python 3"
    },
    "accelerator": "TPU"
  },
  "cells": [
    {
      "cell_type": "markdown",
      "metadata": {
        "id": "view-in-github",
        "colab_type": "text"
      },
      "source": [
        "<a href=\"https://colab.research.google.com/github/Giffy/fast.ai/blob/master/Machine%20Learning/lesson3_randomforest_foundations.ipynb\" target=\"_parent\"><img src=\"https://colab.research.google.com/assets/colab-badge.svg\" alt=\"Open In Colab\"/></a>"
      ]
    },
    {
      "metadata": {
        "id": "nGMnMZr7RIS5",
        "colab_type": "text"
      },
      "cell_type": "markdown",
      "source": [
        "**Important: This notebook will only work with fastai-0.7.x. Do not try to run any fastai-1.x code from this path in the repository because it will load fastai-0.7.x**"
      ]
    },
    {
      "metadata": {
        "id": "D5EdtSEWRITh",
        "colab_type": "text"
      },
      "cell_type": "markdown",
      "source": [
        "# Random Forest from scratch!"
      ]
    },
    {
      "metadata": {
        "id": "en-MeQPhSIY2",
        "colab_type": "code",
        "colab": {}
      },
      "cell_type": "code",
      "source": [
        "print (\" Installing FastAI libraries...\")\n",
        "!pip install fastai==0.7.0 > /dev/null\n",
        "print (\"\\n Installing required libraries...\")\n",
        "!pip install feather > /dev/null\n",
        "!pip install scikit-misc==0.1.0 > /dev/null\n",
        "!pip install pdpbox==0.2.0 > /dev/null\n",
        "!pip install treeinterpreter==0.2.2 > /dev/null\n",
        "print (\"\\n Downloading train dataset...\")\n",
        "!wget https://raw.githubusercontent.com/Giffy/Personal_dataset_repository/master/train.tar.gz\n",
        "!tar xvf train.tar.gz > /dev/null\n",
        "print (\"\\n Downloading dataframe processed ...\")\n",
        "!wget https://raw.githubusercontent.com/Giffy/Personal_dataset_repository/master/df_raw.tar.gz\n",
        "!tar xvf df_raw.tar.gz > /dev/null\n",
        "print (\"\\n Importing libraries\")\n",
        "import pandas as pd\n",
        "import feather                                            # to read and save raw data"
      ],
      "execution_count": 0,
      "outputs": []
    },
    {
      "metadata": {
        "id": "uh9cph7CRIT4",
        "colab_type": "code",
        "colab": {}
      },
      "cell_type": "code",
      "source": [
        "%load_ext autoreload\n",
        "%autoreload 2"
      ],
      "execution_count": 0,
      "outputs": []
    },
    {
      "metadata": {
        "id": "cO3urhAhRIVH",
        "colab_type": "code",
        "colab": {}
      },
      "cell_type": "code",
      "source": [
        "%matplotlib inline\n",
        "\n",
        "from fastai.imports import *\n",
        "from fastai.structured import *\n",
        "from sklearn.ensemble import RandomForestRegressor, RandomForestClassifier\n",
        "from IPython.display import display\n",
        "from sklearn import metrics"
      ],
      "execution_count": 0,
      "outputs": []
    },
    {
      "metadata": {
        "id": "VV5EooyHRIWJ",
        "colab_type": "text"
      },
      "cell_type": "markdown",
      "source": [
        "## Load in our data from last lesson"
      ]
    },
    {
      "metadata": {
        "id": "SR7ZV_1pRIWj",
        "colab_type": "code",
        "colab": {}
      },
      "cell_type": "code",
      "source": [
        "PATH = \"/content/data/bulldozers/\"                        # changed data PATH = \"data/bulldozers/\"\n",
        "\n",
        "df_raw=feather.read_dataframe('tmp/bulldozers-raw')       # replaced:df_raw = pd.read_feather('tmp/bulldozers-raw')\n",
        "df_trn, y_trn, nas = proc_df(df_raw, 'SalePrice')"
      ],
      "execution_count": 0,
      "outputs": []
    },
    {
      "metadata": {
        "id": "YsRn3smuRIXO",
        "colab_type": "code",
        "colab": {}
      },
      "cell_type": "code",
      "source": [
        "def split_vals(a,n): return a[:n], a[n:]\n",
        "n_valid = 12000\n",
        "n_trn = len(df_trn)-n_valid\n",
        "X_train, X_valid = split_vals(df_trn, n_trn)\n",
        "y_train, y_valid = split_vals(y_trn, n_trn)\n",
        "raw_train, raw_valid = split_vals(df_raw, n_trn)"
      ],
      "execution_count": 0,
      "outputs": []
    },
    {
      "metadata": {
        "id": "XIJF67j-RIX5",
        "colab_type": "code",
        "colab": {}
      },
      "cell_type": "code",
      "source": [
        "x_sub = X_train[['YearMade', 'MachineHoursCurrentMeter']]"
      ],
      "execution_count": 0,
      "outputs": []
    },
    {
      "metadata": {
        "id": "lVqBn95NRIYc",
        "colab_type": "text"
      },
      "cell_type": "markdown",
      "source": [
        "## Basic data structures"
      ]
    },
    {
      "metadata": {
        "id": "L1NnxpCTRIYv",
        "colab_type": "code",
        "colab": {}
      },
      "cell_type": "code",
      "source": [
        "class TreeEnsemble():\n",
        "    def __init__(self, x, y, n_trees, sample_sz, min_leaf=5):\n",
        "        np.random.seed(42)\n",
        "        self.x,self.y,self.sample_sz,self.min_leaf = x,y,sample_sz,min_leaf\n",
        "        self.trees = [self.create_tree() for i in range(n_trees)]\n",
        "\n",
        "    def create_tree(self):\n",
        "        rnd_idxs = np.random.permutation(len(self.y))[:self.sample_sz]\n",
        "        return DecisionTree(self.x.iloc[rnd_idxs], self.y[rnd_idxs], min_leaf=self.min_leaf)\n",
        "        \n",
        "    def predict(self, x):\n",
        "        return np.mean([t.predict(x) for t in self.trees], axis=0)"
      ],
      "execution_count": 0,
      "outputs": []
    },
    {
      "metadata": {
        "id": "_LaX7fZURIZ6",
        "colab_type": "code",
        "colab": {}
      },
      "cell_type": "code",
      "source": [
        "class DecisionTree():\n",
        "    def __init__(self, x, y, idxs=None, min_leaf=5):\n",
        "        self.x,self.y,self.idxs,self.min_leaf = x,y,idxs,min_leaf"
      ],
      "execution_count": 0,
      "outputs": []
    },
    {
      "metadata": {
        "id": "OlROPE91RIa7",
        "colab_type": "code",
        "colab": {}
      },
      "cell_type": "code",
      "source": [
        "m = TreeEnsemble(X_train, y_train, n_trees=10, sample_sz=1000, min_leaf=3)"
      ],
      "execution_count": 0,
      "outputs": []
    },
    {
      "metadata": {
        "id": "WSUuLsfbRIb8",
        "colab_type": "code",
        "colab": {}
      },
      "cell_type": "code",
      "source": [
        "m.trees[0]"
      ],
      "execution_count": 0,
      "outputs": []
    },
    {
      "metadata": {
        "id": "c1wnyQxZRIdK",
        "colab_type": "code",
        "colab": {}
      },
      "cell_type": "code",
      "source": [
        "class DecisionTree():\n",
        "    def __init__(self, x, y, idxs=None, min_leaf=5):\n",
        "        if idxs is None: idxs=np.arange(len(y))\n",
        "        self.x,self.y,self.idxs,self.min_leaf = x,y,idxs,min_leaf\n",
        "        self.n,self.c = len(idxs), x.shape[1]\n",
        "        self.val = np.mean(y[idxs])\n",
        "        self.score = float('inf')\n",
        "        self.find_varsplit()\n",
        "        \n",
        "    # This just does one decision; we'll make it recursive later\n",
        "    def find_varsplit(self):\n",
        "        for i in range(self.c): self.find_better_split(i)\n",
        "            \n",
        "    # We'll write this later!\n",
        "    def find_better_split(self, var_idx): pass\n",
        "    \n",
        "    @property\n",
        "    def split_name(self): return self.x.columns[self.var_idx]\n",
        "    \n",
        "    @property\n",
        "    def split_col(self): return self.x.values[self.idxs,self.var_idx]\n",
        "\n",
        "    @property\n",
        "    def is_leaf(self): return self.score == float('inf')\n",
        "    \n",
        "    def __repr__(self):\n",
        "        s = f'n: {self.n}; val:{self.val}'\n",
        "        if not self.is_leaf:\n",
        "            s += f'; score:{self.score}; split:{self.split}; var:{self.split_name}'\n",
        "        return s"
      ],
      "execution_count": 0,
      "outputs": []
    },
    {
      "metadata": {
        "id": "5AJVsCeKRIdw",
        "colab_type": "code",
        "colab": {}
      },
      "cell_type": "code",
      "source": [
        "m = TreeEnsemble(X_train, y_train, n_trees=10, sample_sz=1000, min_leaf=3)"
      ],
      "execution_count": 0,
      "outputs": []
    },
    {
      "metadata": {
        "id": "OGWfbdotRIel",
        "colab_type": "code",
        "colab": {}
      },
      "cell_type": "code",
      "source": [
        "m.trees[0]"
      ],
      "execution_count": 0,
      "outputs": []
    },
    {
      "metadata": {
        "id": "vpsIUghkRIfc",
        "colab_type": "code",
        "colab": {}
      },
      "cell_type": "code",
      "source": [
        "m.trees[0].idxs"
      ],
      "execution_count": 0,
      "outputs": []
    },
    {
      "metadata": {
        "id": "6bOVz5k0RIgK",
        "colab_type": "text"
      },
      "cell_type": "markdown",
      "source": [
        "## Single branch"
      ]
    },
    {
      "metadata": {
        "id": "mEp8L1DPRIgU",
        "colab_type": "text"
      },
      "cell_type": "markdown",
      "source": [
        "### Find best split given variable"
      ]
    },
    {
      "metadata": {
        "id": "IbkUJCTJRIgh",
        "colab_type": "code",
        "colab": {}
      },
      "cell_type": "code",
      "source": [
        "ens = TreeEnsemble(x_sub, y_train, 1, 1000)\n",
        "tree = ens.trees[0]\n",
        "x_samp,y_samp = tree.x, tree.y\n",
        "x_samp.columns"
      ],
      "execution_count": 0,
      "outputs": []
    },
    {
      "metadata": {
        "id": "X9nP0vUzRIhj",
        "colab_type": "code",
        "colab": {}
      },
      "cell_type": "code",
      "source": [
        "tree"
      ],
      "execution_count": 0,
      "outputs": []
    },
    {
      "metadata": {
        "id": "Cqk-jtDZRIi_",
        "colab_type": "code",
        "colab": {}
      },
      "cell_type": "code",
      "source": [
        "m = RandomForestRegressor(n_estimators=1, max_depth=1, bootstrap=False)\n",
        "m.fit(x_samp, y_samp)\n",
        "draw_tree(m.estimators_[0], x_samp, precision=2)"
      ],
      "execution_count": 0,
      "outputs": []
    },
    {
      "metadata": {
        "id": "qZHNPfiBRIjz",
        "colab_type": "code",
        "colab": {}
      },
      "cell_type": "code",
      "source": [
        "def find_better_split(self, var_idx):\n",
        "    x,y = self.x.values[self.idxs,var_idx], self.y[self.idxs]\n",
        "\n",
        "    for i in range(self.n):\n",
        "        lhs = x<=x[i]\n",
        "        rhs = x>x[i]\n",
        "        if rhs.sum()<self.min_leaf or lhs.sum()<self.min_leaf: continue\n",
        "        lhs_std = y[lhs].std()\n",
        "        rhs_std = y[rhs].std()\n",
        "        curr_score = lhs_std*lhs.sum() + rhs_std*rhs.sum()\n",
        "        if curr_score<self.score: \n",
        "            self.var_idx,self.score,self.split = var_idx,curr_score,x[i]"
      ],
      "execution_count": 0,
      "outputs": []
    },
    {
      "metadata": {
        "id": "VsHkTLwmRIkq",
        "colab_type": "code",
        "colab": {}
      },
      "cell_type": "code",
      "source": [
        "%timeit find_better_split(tree,1)\n",
        "tree"
      ],
      "execution_count": 0,
      "outputs": []
    },
    {
      "metadata": {
        "id": "qoGUWUOJRIlX",
        "colab_type": "code",
        "colab": {}
      },
      "cell_type": "code",
      "source": [
        "find_better_split(tree,0); tree"
      ],
      "execution_count": 0,
      "outputs": []
    },
    {
      "metadata": {
        "id": "DSxM2QOTRIme",
        "colab_type": "text"
      },
      "cell_type": "markdown",
      "source": [
        "### Speeding things up"
      ]
    },
    {
      "metadata": {
        "id": "06spk5KCRImk",
        "colab_type": "code",
        "colab": {}
      },
      "cell_type": "code",
      "source": [
        "tree = TreeEnsemble(x_sub, y_train, 1, 1000).trees[0]"
      ],
      "execution_count": 0,
      "outputs": []
    },
    {
      "metadata": {
        "id": "-ernry37RInQ",
        "colab_type": "code",
        "colab": {}
      },
      "cell_type": "code",
      "source": [
        "def std_agg(cnt, s1, s2): return math.sqrt((s2/cnt) - (s1/cnt)**2)\n",
        "\n",
        "def find_better_split(self, var_idx):\n",
        "    x,y = self.x.values[self.idxs,var_idx], self.y[self.idxs]\n",
        "    \n",
        "    sort_idx = np.argsort(x)\n",
        "    sort_y,sort_x = y[sort_idx], x[sort_idx]\n",
        "    rhs_cnt,rhs_sum,rhs_sum2 = self.n, sort_y.sum(), (sort_y**2).sum()\n",
        "    lhs_cnt,lhs_sum,lhs_sum2 = 0,0.,0.\n",
        "\n",
        "    for i in range(0,self.n-self.min_leaf):\n",
        "        xi,yi = sort_x[i],sort_y[i]\n",
        "        lhs_cnt += 1; rhs_cnt -= 1\n",
        "        lhs_sum += yi; rhs_sum -= yi\n",
        "        lhs_sum2 += yi**2; rhs_sum2 -= yi**2\n",
        "        if i<self.min_leaf-1 or xi==sort_x[i+1]:\n",
        "            continue\n",
        "            \n",
        "        lhs_std = std_agg(lhs_cnt, lhs_sum, lhs_sum2)\n",
        "        rhs_std = std_agg(rhs_cnt, rhs_sum, rhs_sum2)\n",
        "        curr_score = lhs_std*lhs_cnt + rhs_std*rhs_cnt\n",
        "        if curr_score<self.score: \n",
        "            self.var_idx,self.score,self.split = var_idx,curr_score,xi"
      ],
      "execution_count": 0,
      "outputs": []
    },
    {
      "metadata": {
        "id": "kjuchEEqRIoI",
        "colab_type": "code",
        "colab": {}
      },
      "cell_type": "code",
      "source": [
        "%timeit find_better_split(tree,1)\n",
        "tree"
      ],
      "execution_count": 0,
      "outputs": []
    },
    {
      "metadata": {
        "id": "ExPSTUcgRIpY",
        "colab_type": "code",
        "colab": {}
      },
      "cell_type": "code",
      "source": [
        "find_better_split(tree,0); tree"
      ],
      "execution_count": 0,
      "outputs": []
    },
    {
      "metadata": {
        "id": "GSVqCz9pRIqD",
        "colab_type": "code",
        "colab": {}
      },
      "cell_type": "code",
      "source": [
        "DecisionTree.find_better_split = find_better_split"
      ],
      "execution_count": 0,
      "outputs": []
    },
    {
      "metadata": {
        "id": "3WT9cFAVRIqt",
        "colab_type": "code",
        "colab": {}
      },
      "cell_type": "code",
      "source": [
        "tree = TreeEnsemble(x_sub, y_train, 1, 1000).trees[0]; tree"
      ],
      "execution_count": 0,
      "outputs": []
    },
    {
      "metadata": {
        "id": "jXyVRGu7RIrs",
        "colab_type": "text"
      },
      "cell_type": "markdown",
      "source": [
        "## Full single tree"
      ]
    },
    {
      "metadata": {
        "id": "4kAIrO8rRIr1",
        "colab_type": "code",
        "colab": {}
      },
      "cell_type": "code",
      "source": [
        "m = RandomForestRegressor(n_estimators=1, max_depth=2, bootstrap=False)\n",
        "m.fit(x_samp, y_samp)\n",
        "draw_tree(m.estimators_[0], x_samp, precision=2)"
      ],
      "execution_count": 0,
      "outputs": []
    },
    {
      "metadata": {
        "id": "meo2W0wbRIsY",
        "colab_type": "code",
        "colab": {}
      },
      "cell_type": "code",
      "source": [
        "def find_varsplit(self):\n",
        "    for i in range(self.c): self.find_better_split(i)\n",
        "    if self.is_leaf: return\n",
        "    x = self.split_col\n",
        "    lhs = np.nonzero(x<=self.split)[0]\n",
        "    rhs = np.nonzero(x>self.split)[0]\n",
        "    self.lhs = DecisionTree(self.x, self.y, self.idxs[lhs])\n",
        "    self.rhs = DecisionTree(self.x, self.y, self.idxs[rhs])"
      ],
      "execution_count": 0,
      "outputs": []
    },
    {
      "metadata": {
        "id": "sHxQR1zKRIss",
        "colab_type": "code",
        "colab": {}
      },
      "cell_type": "code",
      "source": [
        "DecisionTree.find_varsplit = find_varsplit"
      ],
      "execution_count": 0,
      "outputs": []
    },
    {
      "metadata": {
        "id": "Cq0VQ6JARIs7",
        "colab_type": "code",
        "colab": {}
      },
      "cell_type": "code",
      "source": [
        "tree = TreeEnsemble(x_sub, y_train, 1, 1000).trees[0]; tree"
      ],
      "execution_count": 0,
      "outputs": []
    },
    {
      "metadata": {
        "id": "JWuGIWa4RItb",
        "colab_type": "code",
        "colab": {}
      },
      "cell_type": "code",
      "source": [
        "tree.lhs"
      ],
      "execution_count": 0,
      "outputs": []
    },
    {
      "metadata": {
        "id": "mUvJs5-4RIuC",
        "colab_type": "code",
        "colab": {}
      },
      "cell_type": "code",
      "source": [
        "tree.rhs"
      ],
      "execution_count": 0,
      "outputs": []
    },
    {
      "metadata": {
        "id": "qk3BJ4sLRIu4",
        "colab_type": "code",
        "colab": {}
      },
      "cell_type": "code",
      "source": [
        "tree.lhs.lhs"
      ],
      "execution_count": 0,
      "outputs": []
    },
    {
      "metadata": {
        "id": "jrSAste_RIvT",
        "colab_type": "code",
        "colab": {}
      },
      "cell_type": "code",
      "source": [
        "tree.lhs.rhs"
      ],
      "execution_count": 0,
      "outputs": []
    },
    {
      "metadata": {
        "id": "iNGCrSrDRIv6",
        "colab_type": "text"
      },
      "cell_type": "markdown",
      "source": [
        "## Predictions"
      ]
    },
    {
      "metadata": {
        "id": "qYracffRRIwE",
        "colab_type": "code",
        "colab": {}
      },
      "cell_type": "code",
      "source": [
        "cols = ['MachineID', 'YearMade', 'MachineHoursCurrentMeter', 'ProductSize', 'Enclosure',\n",
        "        'Coupler_System', 'saleYear']"
      ],
      "execution_count": 0,
      "outputs": []
    },
    {
      "metadata": {
        "id": "WZFNHisVRIwc",
        "colab_type": "code",
        "colab": {}
      },
      "cell_type": "code",
      "source": [
        "%time tree = TreeEnsemble(X_train[cols], y_train, 1, 1000).trees[0]\n",
        "x_samp,y_samp = tree.x, tree.y"
      ],
      "execution_count": 0,
      "outputs": []
    },
    {
      "metadata": {
        "id": "f_1DWTx2RIxB",
        "colab_type": "code",
        "colab": {}
      },
      "cell_type": "code",
      "source": [
        "m = RandomForestRegressor(n_estimators=1, max_depth=3, bootstrap=False)\n",
        "m.fit(x_samp, y_samp)\n",
        "draw_tree(m.estimators_[0], x_samp, precision=2, ratio=0.9, size=7)"
      ],
      "execution_count": 0,
      "outputs": []
    },
    {
      "metadata": {
        "id": "1nJbw4UXRIxe",
        "colab_type": "code",
        "colab": {}
      },
      "cell_type": "code",
      "source": [
        "def predict(self, x): return np.array([self.predict_row(xi) for xi in x])\n",
        "DecisionTree.predict = predict"
      ],
      "execution_count": 0,
      "outputs": []
    },
    {
      "metadata": {
        "id": "pb-8c-xRRIzH",
        "colab_type": "code",
        "colab": {}
      },
      "cell_type": "code",
      "source": [
        "def predict_row(self, xi):\n",
        "    if self.is_leaf: return self.val\n",
        "    t = self.lhs if xi[self.var_idx]<=self.split else self.rhs\n",
        "    return t.predict_row(xi)\n",
        "\n",
        "DecisionTree.predict_row = predict_row"
      ],
      "execution_count": 0,
      "outputs": []
    },
    {
      "metadata": {
        "id": "9wVC9KAhRIzZ",
        "colab_type": "code",
        "colab": {}
      },
      "cell_type": "code",
      "source": [
        "%time preds = tree.predict(X_valid[cols].values)"
      ],
      "execution_count": 0,
      "outputs": []
    },
    {
      "metadata": {
        "id": "brpUGbpyRIzu",
        "colab_type": "code",
        "colab": {}
      },
      "cell_type": "code",
      "source": [
        "plt.scatter(preds, y_valid, alpha=0.05)"
      ],
      "execution_count": 0,
      "outputs": []
    },
    {
      "metadata": {
        "id": "V8uYTOZqRI0P",
        "colab_type": "code",
        "colab": {}
      },
      "cell_type": "code",
      "source": [
        "metrics.r2_score(preds, y_valid)"
      ],
      "execution_count": 0,
      "outputs": []
    },
    {
      "metadata": {
        "id": "KnN767-SRI0y",
        "colab_type": "code",
        "colab": {}
      },
      "cell_type": "code",
      "source": [
        "m = RandomForestRegressor(n_estimators=1, min_samples_leaf=5, bootstrap=False)\n",
        "%time m.fit(x_samp, y_samp)\n",
        "preds = m.predict(X_valid[cols].values)\n",
        "plt.scatter(preds, y_valid, alpha=0.05)"
      ],
      "execution_count": 0,
      "outputs": []
    },
    {
      "metadata": {
        "id": "Mofv0IBURI1O",
        "colab_type": "code",
        "colab": {}
      },
      "cell_type": "code",
      "source": [
        "metrics.r2_score(preds, y_valid)"
      ],
      "execution_count": 0,
      "outputs": []
    },
    {
      "metadata": {
        "id": "mcS40gJuRI17",
        "colab_type": "text"
      },
      "cell_type": "markdown",
      "source": [
        "# Putting it together"
      ]
    },
    {
      "metadata": {
        "id": "10MG32xYRI2E",
        "colab_type": "code",
        "colab": {}
      },
      "cell_type": "code",
      "source": [
        "class TreeEnsemble():\n",
        "    def __init__(self, x, y, n_trees, sample_sz, min_leaf=5):\n",
        "        np.random.seed(42)\n",
        "        self.x,self.y,self.sample_sz,self.min_leaf = x,y,sample_sz,min_leaf\n",
        "        self.trees = [self.create_tree() for i in range(n_trees)]\n",
        "\n",
        "    def create_tree(self):\n",
        "        idxs = np.random.permutation(len(self.y))[:self.sample_sz]\n",
        "        return DecisionTree(self.x.iloc[idxs], self.y[idxs], \n",
        "                    idxs=np.array(range(self.sample_sz)), min_leaf=self.min_leaf)\n",
        "        \n",
        "    def predict(self, x):\n",
        "        return np.mean([t.predict(x) for t in self.trees], axis=0)\n",
        "\n",
        "def std_agg(cnt, s1, s2): return math.sqrt((s2/cnt) - (s1/cnt)**2)"
      ],
      "execution_count": 0,
      "outputs": []
    },
    {
      "metadata": {
        "id": "IGQt7NxQRI2f",
        "colab_type": "code",
        "colab": {}
      },
      "cell_type": "code",
      "source": [
        "class DecisionTree():\n",
        "    def __init__(self, x, y, idxs, min_leaf=5):\n",
        "        self.x,self.y,self.idxs,self.min_leaf = x,y,idxs,min_leaf\n",
        "        self.n,self.c = len(idxs), x.shape[1]\n",
        "        self.val = np.mean(y[idxs])\n",
        "        self.score = float('inf')\n",
        "        self.find_varsplit()\n",
        "        \n",
        "    def find_varsplit(self):\n",
        "        for i in range(self.c): self.find_better_split(i)\n",
        "        if self.score == float('inf'): return\n",
        "        x = self.split_col\n",
        "        lhs = np.nonzero(x<=self.split)[0]\n",
        "        rhs = np.nonzero(x>self.split)[0]\n",
        "        self.lhs = DecisionTree(self.x, self.y, self.idxs[lhs])\n",
        "        self.rhs = DecisionTree(self.x, self.y, self.idxs[rhs])\n",
        "\n",
        "    def find_better_split(self, var_idx):\n",
        "        x,y = self.x.values[self.idxs,var_idx], self.y[self.idxs]\n",
        "        sort_idx = np.argsort(x)\n",
        "        sort_y,sort_x = y[sort_idx], x[sort_idx]\n",
        "        rhs_cnt,rhs_sum,rhs_sum2 = self.n, sort_y.sum(), (sort_y**2).sum()\n",
        "        lhs_cnt,lhs_sum,lhs_sum2 = 0,0.,0.\n",
        "\n",
        "        for i in range(0,self.n-self.min_leaf):\n",
        "            xi,yi = sort_x[i],sort_y[i]\n",
        "            lhs_cnt += 1; rhs_cnt -= 1\n",
        "            lhs_sum += yi; rhs_sum -= yi\n",
        "            lhs_sum2 += yi**2; rhs_sum2 -= yi**2\n",
        "            if i<self.min_leaf-1 or xi==sort_x[i+1]:\n",
        "                continue\n",
        "\n",
        "            lhs_std = std_agg(lhs_cnt, lhs_sum, lhs_sum2)\n",
        "            rhs_std = std_agg(rhs_cnt, rhs_sum, rhs_sum2)\n",
        "            curr_score = lhs_std*lhs_cnt + rhs_std*rhs_cnt\n",
        "            if curr_score<self.score: \n",
        "                self.var_idx,self.score,self.split = var_idx,curr_score,xi\n",
        "\n",
        "    @property\n",
        "    def split_name(self): return self.x.columns[self.var_idx]\n",
        "    \n",
        "    @property\n",
        "    def split_col(self): return self.x.values[self.idxs,self.var_idx]\n",
        "\n",
        "    @property\n",
        "    def is_leaf(self): return self.score == float('inf')\n",
        "    \n",
        "    def __repr__(self):\n",
        "        s = f'n: {self.n}; val:{self.val}'\n",
        "        if not self.is_leaf:\n",
        "            s += f'; score:{self.score}; split:{self.split}; var:{self.split_name}'\n",
        "        return s\n",
        "\n",
        "    def predict(self, x):\n",
        "        return np.array([self.predict_row(xi) for xi in x])\n",
        "\n",
        "    def predict_row(self, xi):\n",
        "        if self.is_leaf: return self.val\n",
        "        t = self.lhs if xi[self.var_idx]<=self.split else self.rhs\n",
        "        return t.predict_row(xi)"
      ],
      "execution_count": 0,
      "outputs": []
    },
    {
      "metadata": {
        "id": "ubnbd6csRI28",
        "colab_type": "code",
        "colab": {}
      },
      "cell_type": "code",
      "source": [
        "ens = TreeEnsemble(X_train[cols], y_train, 5, 1000)"
      ],
      "execution_count": 0,
      "outputs": []
    },
    {
      "metadata": {
        "id": "liBLfrTXRI3h",
        "colab_type": "code",
        "colab": {}
      },
      "cell_type": "code",
      "source": [
        "preds = ens.predict(X_valid[cols].values)"
      ],
      "execution_count": 0,
      "outputs": []
    },
    {
      "metadata": {
        "id": "YLBFwdggRI4J",
        "colab_type": "code",
        "colab": {}
      },
      "cell_type": "code",
      "source": [
        "plt.scatter(y_valid, preds, alpha=0.1, s=6);"
      ],
      "execution_count": 0,
      "outputs": []
    },
    {
      "metadata": {
        "id": "92iB6vpbRI4i",
        "colab_type": "code",
        "colab": {}
      },
      "cell_type": "code",
      "source": [
        "metrics.r2_score(y_valid, preds)"
      ],
      "execution_count": 0,
      "outputs": []
    },
    {
      "metadata": {
        "id": "QEj3D8S3RI5G",
        "colab_type": "code",
        "colab": {}
      },
      "cell_type": "code",
      "source": [
        "%load_ext Cython"
      ],
      "execution_count": 0,
      "outputs": []
    },
    {
      "metadata": {
        "id": "tZ_fnrM9RI5h",
        "colab_type": "code",
        "colab": {}
      },
      "cell_type": "code",
      "source": [
        "def fib1(n):\n",
        "    a, b = 0, 1\n",
        "    while b < n:\n",
        "        a, b = b, a + b"
      ],
      "execution_count": 0,
      "outputs": []
    },
    {
      "metadata": {
        "id": "9l9pVXTxRI6M",
        "colab_type": "code",
        "colab": {}
      },
      "cell_type": "code",
      "source": [
        "%%cython\n",
        "def fib2(n):\n",
        "    a, b = 0, 1\n",
        "    while b < n:\n",
        "        a, b = b, a + b"
      ],
      "execution_count": 0,
      "outputs": []
    },
    {
      "metadata": {
        "id": "LbViUa4mRI6l",
        "colab_type": "code",
        "colab": {}
      },
      "cell_type": "code",
      "source": [
        "%%cython\n",
        "def fib3(int n):\n",
        "    cdef int b = 1\n",
        "    cdef int a = 0\n",
        "    cdef int t = 0\n",
        "    while b < n:\n",
        "        t = a\n",
        "        a = b\n",
        "        b = t + b"
      ],
      "execution_count": 0,
      "outputs": []
    },
    {
      "metadata": {
        "id": "3vO7OgkTRI7E",
        "colab_type": "code",
        "colab": {}
      },
      "cell_type": "code",
      "source": [
        "%timeit fib1(50)"
      ],
      "execution_count": 0,
      "outputs": []
    },
    {
      "metadata": {
        "id": "fA-BDjFyRI7Z",
        "colab_type": "code",
        "colab": {}
      },
      "cell_type": "code",
      "source": [
        "%timeit fib2(50)"
      ],
      "execution_count": 0,
      "outputs": []
    },
    {
      "metadata": {
        "id": "Cx0ViGkXRI8S",
        "colab_type": "code",
        "colab": {}
      },
      "cell_type": "code",
      "source": [
        "%timeit fib3(50)"
      ],
      "execution_count": 0,
      "outputs": []
    }
  ]
}
